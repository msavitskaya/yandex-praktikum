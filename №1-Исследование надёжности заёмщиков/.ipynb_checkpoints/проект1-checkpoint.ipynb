{
 "cells": [
  {
   "cell_type": "markdown",
   "metadata": {},
   "source": [
    "## Исследование надёжности заёмщиков\n",
    "\n",
    "Заказчик — кредитный отдел банка. Нужно разобраться, влияет ли семейное положение и количество детей клиента на факт погашения кредита в срок. Входные данные от банка — статистика о платёжеспособности клиентов.\n",
    "\n",
    "Результаты исследования будут учтены при построении модели **кредитного скоринга** — специальной системы, которая оценивает способность потенциального заёмщика вернуть кредит банку."
   ]
  },
  {
   "cell_type": "markdown",
   "metadata": {},
   "source": [
    "# Оглавление\n",
    "\n",
    "1. [Шаг 1. Изучение общей информации](#step1)  \n",
    "2. [Шаг 2. Предобработка данных](#step2)  \n",
    "3. [Шаг 3. Ответы на вопросы](#step3)  \n",
    "5. [Шаг 4. Общий вывод](#step4)  "
   ]
  },
  {
   "cell_type": "markdown",
   "metadata": {},
   "source": [
    "### Шаг 1. Изучение общей информации.  <a id=\"step1\"></a>"
   ]
  },
  {
   "cell_type": "code",
   "execution_count": 620,
   "metadata": {},
   "outputs": [
    {
     "data": {
      "text/html": [
       "<div>\n",
       "<style scoped>\n",
       "    .dataframe tbody tr th:only-of-type {\n",
       "        vertical-align: middle;\n",
       "    }\n",
       "\n",
       "    .dataframe tbody tr th {\n",
       "        vertical-align: top;\n",
       "    }\n",
       "\n",
       "    .dataframe thead th {\n",
       "        text-align: right;\n",
       "    }\n",
       "</style>\n",
       "<table border=\"1\" class=\"dataframe\">\n",
       "  <thead>\n",
       "    <tr style=\"text-align: right;\">\n",
       "      <th></th>\n",
       "      <th>children</th>\n",
       "      <th>days_employed</th>\n",
       "      <th>dob_years</th>\n",
       "      <th>education</th>\n",
       "      <th>education_id</th>\n",
       "      <th>family_status</th>\n",
       "      <th>family_status_id</th>\n",
       "      <th>gender</th>\n",
       "      <th>income_type</th>\n",
       "      <th>debt</th>\n",
       "      <th>total_income</th>\n",
       "      <th>purpose</th>\n",
       "    </tr>\n",
       "  </thead>\n",
       "  <tbody>\n",
       "    <tr>\n",
       "      <td>0</td>\n",
       "      <td>1</td>\n",
       "      <td>-8437.673028</td>\n",
       "      <td>42</td>\n",
       "      <td>высшее</td>\n",
       "      <td>0</td>\n",
       "      <td>женат / замужем</td>\n",
       "      <td>0</td>\n",
       "      <td>F</td>\n",
       "      <td>сотрудник</td>\n",
       "      <td>0</td>\n",
       "      <td>253875.639453</td>\n",
       "      <td>покупка жилья</td>\n",
       "    </tr>\n",
       "    <tr>\n",
       "      <td>1</td>\n",
       "      <td>1</td>\n",
       "      <td>-4024.803754</td>\n",
       "      <td>36</td>\n",
       "      <td>среднее</td>\n",
       "      <td>1</td>\n",
       "      <td>женат / замужем</td>\n",
       "      <td>0</td>\n",
       "      <td>F</td>\n",
       "      <td>сотрудник</td>\n",
       "      <td>0</td>\n",
       "      <td>112080.014102</td>\n",
       "      <td>приобретение автомобиля</td>\n",
       "    </tr>\n",
       "    <tr>\n",
       "      <td>2</td>\n",
       "      <td>0</td>\n",
       "      <td>-5623.422610</td>\n",
       "      <td>33</td>\n",
       "      <td>Среднее</td>\n",
       "      <td>1</td>\n",
       "      <td>женат / замужем</td>\n",
       "      <td>0</td>\n",
       "      <td>M</td>\n",
       "      <td>сотрудник</td>\n",
       "      <td>0</td>\n",
       "      <td>145885.952297</td>\n",
       "      <td>покупка жилья</td>\n",
       "    </tr>\n",
       "    <tr>\n",
       "      <td>3</td>\n",
       "      <td>3</td>\n",
       "      <td>-4124.747207</td>\n",
       "      <td>32</td>\n",
       "      <td>среднее</td>\n",
       "      <td>1</td>\n",
       "      <td>женат / замужем</td>\n",
       "      <td>0</td>\n",
       "      <td>M</td>\n",
       "      <td>сотрудник</td>\n",
       "      <td>0</td>\n",
       "      <td>267628.550329</td>\n",
       "      <td>дополнительное образование</td>\n",
       "    </tr>\n",
       "    <tr>\n",
       "      <td>4</td>\n",
       "      <td>0</td>\n",
       "      <td>340266.072047</td>\n",
       "      <td>53</td>\n",
       "      <td>среднее</td>\n",
       "      <td>1</td>\n",
       "      <td>гражданский брак</td>\n",
       "      <td>1</td>\n",
       "      <td>F</td>\n",
       "      <td>пенсионер</td>\n",
       "      <td>0</td>\n",
       "      <td>158616.077870</td>\n",
       "      <td>сыграть свадьбу</td>\n",
       "    </tr>\n",
       "    <tr>\n",
       "      <td>5</td>\n",
       "      <td>0</td>\n",
       "      <td>-926.185831</td>\n",
       "      <td>27</td>\n",
       "      <td>высшее</td>\n",
       "      <td>0</td>\n",
       "      <td>гражданский брак</td>\n",
       "      <td>1</td>\n",
       "      <td>M</td>\n",
       "      <td>компаньон</td>\n",
       "      <td>0</td>\n",
       "      <td>255763.565419</td>\n",
       "      <td>покупка жилья</td>\n",
       "    </tr>\n",
       "    <tr>\n",
       "      <td>6</td>\n",
       "      <td>0</td>\n",
       "      <td>-2879.202052</td>\n",
       "      <td>43</td>\n",
       "      <td>высшее</td>\n",
       "      <td>0</td>\n",
       "      <td>женат / замужем</td>\n",
       "      <td>0</td>\n",
       "      <td>F</td>\n",
       "      <td>компаньон</td>\n",
       "      <td>0</td>\n",
       "      <td>240525.971920</td>\n",
       "      <td>операции с жильем</td>\n",
       "    </tr>\n",
       "    <tr>\n",
       "      <td>7</td>\n",
       "      <td>0</td>\n",
       "      <td>-152.779569</td>\n",
       "      <td>50</td>\n",
       "      <td>СРЕДНЕЕ</td>\n",
       "      <td>1</td>\n",
       "      <td>женат / замужем</td>\n",
       "      <td>0</td>\n",
       "      <td>M</td>\n",
       "      <td>сотрудник</td>\n",
       "      <td>0</td>\n",
       "      <td>135823.934197</td>\n",
       "      <td>образование</td>\n",
       "    </tr>\n",
       "    <tr>\n",
       "      <td>8</td>\n",
       "      <td>2</td>\n",
       "      <td>-6929.865299</td>\n",
       "      <td>35</td>\n",
       "      <td>ВЫСШЕЕ</td>\n",
       "      <td>0</td>\n",
       "      <td>гражданский брак</td>\n",
       "      <td>1</td>\n",
       "      <td>F</td>\n",
       "      <td>сотрудник</td>\n",
       "      <td>0</td>\n",
       "      <td>95856.832424</td>\n",
       "      <td>на проведение свадьбы</td>\n",
       "    </tr>\n",
       "    <tr>\n",
       "      <td>9</td>\n",
       "      <td>0</td>\n",
       "      <td>-2188.756445</td>\n",
       "      <td>41</td>\n",
       "      <td>среднее</td>\n",
       "      <td>1</td>\n",
       "      <td>женат / замужем</td>\n",
       "      <td>0</td>\n",
       "      <td>M</td>\n",
       "      <td>сотрудник</td>\n",
       "      <td>0</td>\n",
       "      <td>144425.938277</td>\n",
       "      <td>покупка жилья для семьи</td>\n",
       "    </tr>\n",
       "  </tbody>\n",
       "</table>\n",
       "</div>"
      ],
      "text/plain": [
       "   children  days_employed  dob_years education  education_id  \\\n",
       "0         1   -8437.673028         42    высшее             0   \n",
       "1         1   -4024.803754         36   среднее             1   \n",
       "2         0   -5623.422610         33   Среднее             1   \n",
       "3         3   -4124.747207         32   среднее             1   \n",
       "4         0  340266.072047         53   среднее             1   \n",
       "5         0    -926.185831         27    высшее             0   \n",
       "6         0   -2879.202052         43    высшее             0   \n",
       "7         0    -152.779569         50   СРЕДНЕЕ             1   \n",
       "8         2   -6929.865299         35    ВЫСШЕЕ             0   \n",
       "9         0   -2188.756445         41   среднее             1   \n",
       "\n",
       "      family_status  family_status_id gender income_type  debt   total_income  \\\n",
       "0   женат / замужем                 0      F   сотрудник     0  253875.639453   \n",
       "1   женат / замужем                 0      F   сотрудник     0  112080.014102   \n",
       "2   женат / замужем                 0      M   сотрудник     0  145885.952297   \n",
       "3   женат / замужем                 0      M   сотрудник     0  267628.550329   \n",
       "4  гражданский брак                 1      F   пенсионер     0  158616.077870   \n",
       "5  гражданский брак                 1      M   компаньон     0  255763.565419   \n",
       "6   женат / замужем                 0      F   компаньон     0  240525.971920   \n",
       "7   женат / замужем                 0      M   сотрудник     0  135823.934197   \n",
       "8  гражданский брак                 1      F   сотрудник     0   95856.832424   \n",
       "9   женат / замужем                 0      M   сотрудник     0  144425.938277   \n",
       "\n",
       "                      purpose  \n",
       "0               покупка жилья  \n",
       "1     приобретение автомобиля  \n",
       "2               покупка жилья  \n",
       "3  дополнительное образование  \n",
       "4             сыграть свадьбу  \n",
       "5               покупка жилья  \n",
       "6           операции с жильем  \n",
       "7                 образование  \n",
       "8       на проведение свадьбы  \n",
       "9     покупка жилья для семьи  "
      ]
     },
     "execution_count": 620,
     "metadata": {},
     "output_type": "execute_result"
    }
   ],
   "source": [
    "# импорт библиотеки pandas\n",
    "import pandas as pd\n",
    "\n",
    "# импорт библиотеки pymystem3 для лемматизации\n",
    "from pymystem3 import Mystem\n",
    "m = Mystem() \n",
    "\n",
    "# импорт библиотеки collections для подсчета лемм\n",
    "from collections import Counter\n",
    "\n",
    "# чтение файла с данными с сохранением в data\n",
    "data = pd.read_csv('/datasets/data.csv')\n",
    "# получение первых 10 строк таблицы df\n",
    "data.head(10)"
   ]
  },
  {
   "cell_type": "code",
   "execution_count": 621,
   "metadata": {},
   "outputs": [
    {
     "name": "stdout",
     "output_type": "stream",
     "text": [
      "<class 'pandas.core.frame.DataFrame'>\n",
      "RangeIndex: 21525 entries, 0 to 21524\n",
      "Data columns (total 12 columns):\n",
      "children            21525 non-null int64\n",
      "days_employed       19351 non-null float64\n",
      "dob_years           21525 non-null int64\n",
      "education           21525 non-null object\n",
      "education_id        21525 non-null int64\n",
      "family_status       21525 non-null object\n",
      "family_status_id    21525 non-null int64\n",
      "gender              21525 non-null object\n",
      "income_type         21525 non-null object\n",
      "debt                21525 non-null int64\n",
      "total_income        19351 non-null float64\n",
      "purpose             21525 non-null object\n",
      "dtypes: float64(2), int64(5), object(5)\n",
      "memory usage: 2.0+ MB\n"
     ]
    }
   ],
   "source": [
    "# получение общей информации о данных в таблице data\n",
    "data.info()"
   ]
  },
  {
   "cell_type": "markdown",
   "metadata": {},
   "source": [
    "Рассмотрим полученную информацию подробнее.\n",
    "\n",
    "Всего в таблице 12 столбцов. Подробно разберём, какие в data столбцы и какую информацию они содержат:\n",
    "\n",
    "* _children_ — тип int64, количество детей в семье\n",
    "* _days_employed_ — тип float64, общий трудовой стаж в днях. Дробные значения(аж до 14 знаков после запятой) тут не к чему, поэтому приведем поле к int\n",
    "* _dob_years_ — тип int64, возраст клиента в годах\n",
    "* _education_ — тип object, уровень образования клиента\n",
    "* _education_id_ —  тип int64, идентификатор уровня образования\n",
    "* _family_status_ — тип object, семейное положение\n",
    "* _family_status_id_ — тип int64, идентификатор семейного положения\n",
    "* _gender_ — тип object, пол клиента\n",
    "* _income_type_ — тип object, тип занятости\n",
    "* _debt_ — тип int64, имел ли задолженность по возврату кредитов. Это поле хранит два значения 1 - имеет задолженность, 0 - не имеет(ниже мы посмотрим так ли это), поэтому тоже переведем это поле к типу bool\n",
    "* _total_income_ — тип float64, ежемесячный доход. Дробные значения тут также не к чему, поэтому приведем поле к int\n",
    "* _purpose_ — тип object, цель получения кредита\n",
    "\n",
    "Количество значений в столбцах различается. Это говорит о том, что в данных есть пустые значения."
   ]
  },
  {
   "cell_type": "markdown",
   "metadata": {},
   "source": [
    "###  Рассмотрим данные в столбцах\n",
    "#### Рассмотрим данные в столбце 'children'"
   ]
  },
  {
   "cell_type": "code",
   "execution_count": 622,
   "metadata": {},
   "outputs": [
    {
     "data": {
      "text/plain": [
       "array([ 1,  0,  3,  2, -1,  4, 20,  5])"
      ]
     },
     "execution_count": 622,
     "metadata": {},
     "output_type": "execute_result"
    }
   ],
   "source": [
    "# уникальные значения в столбце 'children'\n",
    "data['children'].unique()"
   ]
  },
  {
   "cell_type": "markdown",
   "metadata": {},
   "source": [
    "Количество детей -1 и 20 похоже на ошибку."
   ]
  },
  {
   "cell_type": "code",
   "execution_count": 623,
   "metadata": {},
   "outputs": [
    {
     "data": {
      "text/plain": [
       "123"
      ]
     },
     "execution_count": 623,
     "metadata": {},
     "output_type": "execute_result"
    }
   ],
   "source": [
    "# количество клиентов с детьми -1 и 20\n",
    "data[data['children'] == -1]['children'].count() + data[data['children'] == 20]['children'].count()"
   ]
  },
  {
   "cell_type": "markdown",
   "metadata": {},
   "source": [
    "-1 и 20 детей - это просто опечатка клиента или оператора. Количество детей скорее всего влияет на выдачу кредита, возможно эти значения неверны и у клиентов нет детей, но поскольку количество таких значений меньше процента, удалим эти строки из выборки. "
   ]
  },
  {
   "cell_type": "markdown",
   "metadata": {},
   "source": [
    "#### Рассмотрим данные в столбце 'dob_years'"
   ]
  },
  {
   "cell_type": "code",
   "execution_count": 624,
   "metadata": {},
   "outputs": [
    {
     "data": {
      "text/plain": [
       "array([42, 36, 33, 32, 53, 27, 43, 50, 35, 41, 40, 65, 54, 56, 26, 48, 24,\n",
       "       21, 57, 67, 28, 63, 62, 47, 34, 68, 25, 31, 30, 20, 49, 37, 45, 61,\n",
       "       64, 44, 52, 46, 23, 38, 39, 51,  0, 59, 29, 60, 55, 58, 71, 22, 73,\n",
       "       66, 69, 19, 72, 70, 74, 75])"
      ]
     },
     "execution_count": 624,
     "metadata": {},
     "output_type": "execute_result"
    }
   ],
   "source": [
    "# уникальные значения в столбце 'dob_years'\n",
    "data['dob_years'].unique()"
   ]
  },
  {
   "cell_type": "markdown",
   "metadata": {},
   "source": [
    "Возраст клиента ноль, младенец кредит взять не может."
   ]
  },
  {
   "cell_type": "code",
   "execution_count": 625,
   "metadata": {},
   "outputs": [
    {
     "data": {
      "text/plain": [
       "101"
      ]
     },
     "execution_count": 625,
     "metadata": {},
     "output_type": "execute_result"
    }
   ],
   "source": [
    "# сколько клиентов с возрастом 0\n",
    "data[data['dob_years'] == 0]['dob_years'].count()"
   ]
  },
  {
   "cell_type": "markdown",
   "metadata": {},
   "source": [
    "Клиентов с возврастом 0 всего полпроцента, поэтому удалим эти строки, чтобы они не искажали результаты."
   ]
  },
  {
   "cell_type": "markdown",
   "metadata": {},
   "source": [
    "#### Рассмотрим данные в столбце 'education'"
   ]
  },
  {
   "cell_type": "code",
   "execution_count": 626,
   "metadata": {},
   "outputs": [
    {
     "data": {
      "text/plain": [
       "array(['высшее', 'среднее', 'Среднее', 'СРЕДНЕЕ', 'ВЫСШЕЕ',\n",
       "       'неоконченное высшее', 'начальное', 'Высшее',\n",
       "       'НЕОКОНЧЕННОЕ ВЫСШЕЕ', 'Неоконченное высшее', 'НАЧАЛЬНОЕ',\n",
       "       'Начальное', 'Ученая степень', 'УЧЕНАЯ СТЕПЕНЬ', 'ученая степень'],\n",
       "      dtype=object)"
      ]
     },
     "execution_count": 626,
     "metadata": {},
     "output_type": "execute_result"
    }
   ],
   "source": [
    "# уникальные значения в столбце 'education'\n",
    "data['education'].unique()"
   ]
  },
  {
   "cell_type": "markdown",
   "metadata": {},
   "source": [
    "Разный регистр помешает нам правильно сгруппировать значения. Будем приводить все значение к одному регистру."
   ]
  },
  {
   "cell_type": "markdown",
   "metadata": {},
   "source": [
    "#### Рассмотрим данные в столбце 'family_status'"
   ]
  },
  {
   "cell_type": "code",
   "execution_count": 627,
   "metadata": {},
   "outputs": [
    {
     "data": {
      "text/plain": [
       "array(['женат / замужем', 'гражданский брак', 'вдовец / вдова',\n",
       "       'в разводе', 'Не женат / не замужем'], dtype=object)"
      ]
     },
     "execution_count": 627,
     "metadata": {},
     "output_type": "execute_result"
    }
   ],
   "source": [
    "# уникальные значения в столбце 'family_status'\n",
    "data['family_status'].unique()"
   ]
  },
  {
   "cell_type": "markdown",
   "metadata": {},
   "source": [
    "Также приведем значения к одному регистру"
   ]
  },
  {
   "cell_type": "markdown",
   "metadata": {},
   "source": [
    "#### Рассмотрим данные в столбце 'gender'"
   ]
  },
  {
   "cell_type": "code",
   "execution_count": 628,
   "metadata": {},
   "outputs": [
    {
     "data": {
      "text/plain": [
       "array(['F', 'M', 'XNA'], dtype=object)"
      ]
     },
     "execution_count": 628,
     "metadata": {},
     "output_type": "execute_result"
    }
   ],
   "source": [
    "# уникальные значения в столбце 'gender'\n",
    "data['gender'].unique()"
   ]
  },
  {
   "cell_type": "markdown",
   "metadata": {},
   "source": [
    "Пол XNA ошибочен"
   ]
  },
  {
   "cell_type": "code",
   "execution_count": 629,
   "metadata": {},
   "outputs": [
    {
     "data": {
      "text/plain": [
       "1"
      ]
     },
     "execution_count": 629,
     "metadata": {},
     "output_type": "execute_result"
    }
   ],
   "source": [
    "# сколько клиентов с полом XNA\n",
    "data[data['gender']== 'XNA']['gender'].count()"
   ]
  },
  {
   "cell_type": "markdown",
   "metadata": {},
   "source": [
    "Всего один клиент без пола, можем смело его удалить, т.к. одна запись не повлияет на точность выводов. А предсказать пол по имеющимся данным невозможно, никакой корреляции между полом в зависимости от дохода, образования и количества детей, другое дело, если бы были параметры рост, размер стопы, длина волос и тому подобное."
   ]
  },
  {
   "cell_type": "markdown",
   "metadata": {},
   "source": [
    "#### Рассмотрим данные в столбце 'income_type'"
   ]
  },
  {
   "cell_type": "code",
   "execution_count": 630,
   "metadata": {},
   "outputs": [
    {
     "data": {
      "text/plain": [
       "array(['сотрудник', 'пенсионер', 'компаньон', 'госслужащий',\n",
       "       'безработный', 'предприниматель', 'студент', 'в декрете'],\n",
       "      dtype=object)"
      ]
     },
     "execution_count": 630,
     "metadata": {},
     "output_type": "execute_result"
    }
   ],
   "source": [
    "# уникальные значения в столбце 'income_type'\n",
    "data['income_type'].unique()"
   ]
  },
  {
   "cell_type": "markdown",
   "metadata": {},
   "source": [
    "Тут всё хорошо, ничего менять не будем."
   ]
  },
  {
   "cell_type": "markdown",
   "metadata": {},
   "source": [
    "#### Рассмотрим данные в столбце 'debt'"
   ]
  },
  {
   "cell_type": "code",
   "execution_count": 631,
   "metadata": {},
   "outputs": [
    {
     "data": {
      "text/plain": [
       "array([0, 1])"
      ]
     },
     "execution_count": 631,
     "metadata": {},
     "output_type": "execute_result"
    }
   ],
   "source": [
    "# уникальные значения в столбце 'debt'\n",
    "data['debt'].unique()"
   ]
  },
  {
   "cell_type": "markdown",
   "metadata": {},
   "source": [
    "Тут тоже всё хорошо, также ничего менять не будем."
   ]
  },
  {
   "cell_type": "markdown",
   "metadata": {},
   "source": [
    "#### Рассмотрим данные в столбце 'purpose'"
   ]
  },
  {
   "cell_type": "code",
   "execution_count": 632,
   "metadata": {},
   "outputs": [
    {
     "data": {
      "text/plain": [
       "array(['покупка жилья', 'приобретение автомобиля',\n",
       "       'дополнительное образование', 'сыграть свадьбу',\n",
       "       'операции с жильем', 'образование', 'на проведение свадьбы',\n",
       "       'покупка жилья для семьи', 'покупка недвижимости',\n",
       "       'покупка коммерческой недвижимости', 'покупка жилой недвижимости',\n",
       "       'строительство собственной недвижимости', 'недвижимость',\n",
       "       'строительство недвижимости', 'на покупку подержанного автомобиля',\n",
       "       'на покупку своего автомобиля',\n",
       "       'операции с коммерческой недвижимостью',\n",
       "       'строительство жилой недвижимости', 'жилье',\n",
       "       'операции со своей недвижимостью', 'автомобили',\n",
       "       'заняться образованием', 'сделка с подержанным автомобилем',\n",
       "       'получение образования', 'автомобиль', 'свадьба',\n",
       "       'получение дополнительного образования', 'покупка своего жилья',\n",
       "       'операции с недвижимостью', 'получение высшего образования',\n",
       "       'свой автомобиль', 'сделка с автомобилем',\n",
       "       'профильное образование', 'высшее образование',\n",
       "       'покупка жилья для сдачи', 'на покупку автомобиля', 'ремонт жилью',\n",
       "       'заняться высшим образованием'], dtype=object)"
      ]
     },
     "execution_count": 632,
     "metadata": {},
     "output_type": "execute_result"
    }
   ],
   "source": [
    "# уникальные значения в столбце 'purpose'\n",
    "data['purpose'].unique()"
   ]
  },
  {
   "cell_type": "markdown",
   "metadata": {},
   "source": [
    "Похожие по смыслу причины. Например, 'сыграть свадьбу' и 'на проведение свадьбы' явно одно и тоже, будем леммизировать"
   ]
  },
  {
   "cell_type": "markdown",
   "metadata": {},
   "source": [
    "#### Рассмотрим данные в столбце 'days_employed' и 'total_income'"
   ]
  },
  {
   "cell_type": "code",
   "execution_count": 676,
   "metadata": {},
   "outputs": [
    {
     "data": {
      "text/html": [
       "<div>\n",
       "<style scoped>\n",
       "    .dataframe tbody tr th:only-of-type {\n",
       "        vertical-align: middle;\n",
       "    }\n",
       "\n",
       "    .dataframe tbody tr th {\n",
       "        vertical-align: top;\n",
       "    }\n",
       "\n",
       "    .dataframe thead tr th {\n",
       "        text-align: left;\n",
       "    }\n",
       "\n",
       "    .dataframe thead tr:last-of-type th {\n",
       "        text-align: right;\n",
       "    }\n",
       "</style>\n",
       "<table border=\"1\" class=\"dataframe\">\n",
       "  <thead>\n",
       "    <tr>\n",
       "      <th></th>\n",
       "      <th colspan=\"3\" halign=\"left\">days_employed</th>\n",
       "    </tr>\n",
       "    <tr>\n",
       "      <th></th>\n",
       "      <th>min</th>\n",
       "      <th>max</th>\n",
       "      <th>count</th>\n",
       "    </tr>\n",
       "    <tr>\n",
       "      <th>income_type</th>\n",
       "      <th></th>\n",
       "      <th></th>\n",
       "      <th></th>\n",
       "    </tr>\n",
       "  </thead>\n",
       "  <tbody>\n",
       "    <tr>\n",
       "      <td>в декрете</td>\n",
       "      <td>3296</td>\n",
       "      <td>3296</td>\n",
       "      <td>1</td>\n",
       "    </tr>\n",
       "    <tr>\n",
       "      <td>госслужащий</td>\n",
       "      <td>39</td>\n",
       "      <td>15193</td>\n",
       "      <td>1445</td>\n",
       "    </tr>\n",
       "    <tr>\n",
       "      <td>компаньон</td>\n",
       "      <td>30</td>\n",
       "      <td>17615</td>\n",
       "      <td>5028</td>\n",
       "    </tr>\n",
       "    <tr>\n",
       "      <td>пенсионер</td>\n",
       "      <td>328728</td>\n",
       "      <td>401755</td>\n",
       "      <td>3792</td>\n",
       "    </tr>\n",
       "    <tr>\n",
       "      <td>сотрудник</td>\n",
       "      <td>24</td>\n",
       "      <td>18388</td>\n",
       "      <td>10961</td>\n",
       "    </tr>\n",
       "    <tr>\n",
       "      <td>студент</td>\n",
       "      <td>578</td>\n",
       "      <td>578</td>\n",
       "      <td>1</td>\n",
       "    </tr>\n",
       "  </tbody>\n",
       "</table>\n",
       "</div>"
      ],
      "text/plain": [
       "            days_employed               \n",
       "                      min     max  count\n",
       "income_type                             \n",
       "в декрете            3296    3296      1\n",
       "госслужащий            39   15193   1445\n",
       "компаньон              30   17615   5028\n",
       "пенсионер          328728  401755   3792\n",
       "сотрудник              24   18388  10961\n",
       "студент               578     578      1"
      ]
     },
     "execution_count": 676,
     "metadata": {},
     "output_type": "execute_result"
    }
   ],
   "source": [
    "# минимальные и максимальные значения в столбце 'days_employed'\n",
    "extremum_days_employed = data.groupby('income_type').agg({'days_employed':['min','max', 'count']})\n",
    "extremum_days_employed"
   ]
  },
  {
   "cell_type": "markdown",
   "metadata": {},
   "source": [
    "Отрицательное количество дней по общему трудовому стажу у всех кроме пенсионеров и безработных."
   ]
  },
  {
   "cell_type": "code",
   "execution_count": 634,
   "metadata": {},
   "outputs": [
    {
     "data": {
      "text/plain": [
       "15906"
      ]
     },
     "execution_count": 634,
     "metadata": {},
     "output_type": "execute_result"
    }
   ],
   "source": [
    "# сколько отрицательных значений в столбце 'days_employed'\n",
    "data[data['days_employed'] < 0]['days_employed'].count()"
   ]
  },
  {
   "cell_type": "markdown",
   "metadata": {},
   "source": [
    "Максимальное значение в данных 401755 - это 1100 лет, столько человек не живет и уж тем более не работает. Максимальный возраст клиента в наших данных 75 лет, а официальное трудоустройство в РФ с 16 лет, поэтому максимальное количество лет трудового стажа примерно 59*365 = 21535. Значит в 'days_employed' присутствуют аномальные значения.\n",
    "\n",
    "Поскольку отрицательных значений 73%, то удалив их мы потеряем слишком большое количество данных.\n",
    "Значения столбца 'days_employed' возьмем по модулю и в дальнейшем рассмотрим полученные результаты."
   ]
  },
  {
   "cell_type": "code",
   "execution_count": 635,
   "metadata": {},
   "outputs": [
    {
     "data": {
      "text/html": [
       "<div>\n",
       "<style scoped>\n",
       "    .dataframe tbody tr th:only-of-type {\n",
       "        vertical-align: middle;\n",
       "    }\n",
       "\n",
       "    .dataframe tbody tr th {\n",
       "        vertical-align: top;\n",
       "    }\n",
       "\n",
       "    .dataframe thead tr th {\n",
       "        text-align: left;\n",
       "    }\n",
       "\n",
       "    .dataframe thead tr:last-of-type th {\n",
       "        text-align: right;\n",
       "    }\n",
       "</style>\n",
       "<table border=\"1\" class=\"dataframe\">\n",
       "  <thead>\n",
       "    <tr>\n",
       "      <th></th>\n",
       "      <th colspan=\"2\" halign=\"left\">total_income</th>\n",
       "    </tr>\n",
       "    <tr>\n",
       "      <th></th>\n",
       "      <th>min</th>\n",
       "      <th>max</th>\n",
       "    </tr>\n",
       "    <tr>\n",
       "      <th>income_type</th>\n",
       "      <th></th>\n",
       "      <th></th>\n",
       "    </tr>\n",
       "  </thead>\n",
       "  <tbody>\n",
       "    <tr>\n",
       "      <td>безработный</td>\n",
       "      <td>59956.991984</td>\n",
       "      <td>2.027225e+05</td>\n",
       "    </tr>\n",
       "    <tr>\n",
       "      <td>в декрете</td>\n",
       "      <td>53829.130729</td>\n",
       "      <td>5.382913e+04</td>\n",
       "    </tr>\n",
       "    <tr>\n",
       "      <td>госслужащий</td>\n",
       "      <td>29200.077193</td>\n",
       "      <td>9.104515e+05</td>\n",
       "    </tr>\n",
       "    <tr>\n",
       "      <td>компаньон</td>\n",
       "      <td>28702.812889</td>\n",
       "      <td>2.265604e+06</td>\n",
       "    </tr>\n",
       "    <tr>\n",
       "      <td>пенсионер</td>\n",
       "      <td>20667.263793</td>\n",
       "      <td>7.351033e+05</td>\n",
       "    </tr>\n",
       "    <tr>\n",
       "      <td>предприниматель</td>\n",
       "      <td>499163.144947</td>\n",
       "      <td>4.991631e+05</td>\n",
       "    </tr>\n",
       "    <tr>\n",
       "      <td>сотрудник</td>\n",
       "      <td>21367.648356</td>\n",
       "      <td>1.726276e+06</td>\n",
       "    </tr>\n",
       "    <tr>\n",
       "      <td>студент</td>\n",
       "      <td>98201.625314</td>\n",
       "      <td>9.820163e+04</td>\n",
       "    </tr>\n",
       "  </tbody>\n",
       "</table>\n",
       "</div>"
      ],
      "text/plain": [
       "                  total_income              \n",
       "                           min           max\n",
       "income_type                                 \n",
       "безработный       59956.991984  2.027225e+05\n",
       "в декрете         53829.130729  5.382913e+04\n",
       "госслужащий       29200.077193  9.104515e+05\n",
       "компаньон         28702.812889  2.265604e+06\n",
       "пенсионер         20667.263793  7.351033e+05\n",
       "предприниматель  499163.144947  4.991631e+05\n",
       "сотрудник         21367.648356  1.726276e+06\n",
       "студент           98201.625314  9.820163e+04"
      ]
     },
     "execution_count": 635,
     "metadata": {},
     "output_type": "execute_result"
    }
   ],
   "source": [
    "# минимальные и максимальные значения в столбце 'total_income'\n",
    "extremum_total_income = data.groupby('income_type').agg({'total_income':['min','max','count']})\n",
    "extremum_total_income"
   ]
  },
  {
   "cell_type": "markdown",
   "metadata": {},
   "source": [
    "Что-то безработные очень хорошо зарабатывают, может сидят на дивидендах :-) "
   ]
  },
  {
   "cell_type": "markdown",
   "metadata": {},
   "source": [
    "Столбцы 'days_employed' и 'total_income' содержат пропуски, занимательно, что размеры этих столбцов совпадают.\n",
    "Проверим в одних и тех же строках отсутствуют значения."
   ]
  },
  {
   "cell_type": "code",
   "execution_count": 636,
   "metadata": {},
   "outputs": [
    {
     "name": "stdout",
     "output_type": "stream",
     "text": [
      "<class 'pandas.core.frame.DataFrame'>\n",
      "Int64Index: 2174 entries, 12 to 21510\n",
      "Data columns (total 12 columns):\n",
      "children            2174 non-null int64\n",
      "days_employed       0 non-null float64\n",
      "dob_years           2174 non-null int64\n",
      "education           2174 non-null object\n",
      "education_id        2174 non-null int64\n",
      "family_status       2174 non-null object\n",
      "family_status_id    2174 non-null int64\n",
      "gender              2174 non-null object\n",
      "income_type         2174 non-null object\n",
      "debt                2174 non-null int64\n",
      "total_income        0 non-null float64\n",
      "purpose             2174 non-null object\n",
      "dtypes: float64(2), int64(5), object(5)\n",
      "memory usage: 220.8+ KB\n"
     ]
    }
   ],
   "source": [
    "# проверка соответствия нулевых строк в столюцах 'days_employed' и 'total_income'\n",
    "data[(data['days_employed'].isnull() == True) & (data['total_income'].isnull() == True)].info()"
   ]
  },
  {
   "cell_type": "markdown",
   "metadata": {},
   "source": [
    "Предположение верно, пропуски в 'days_employed' и 'total_income' совпадают.\n",
    "Проверим тип занятости клиентов, у которых пропуски, возможно они безработные?"
   ]
  },
  {
   "cell_type": "code",
   "execution_count": 637,
   "metadata": {},
   "outputs": [
    {
     "data": {
      "text/plain": [
       "сотрудник          1105\n",
       "компаньон           508\n",
       "пенсионер           413\n",
       "госслужащий         147\n",
       "предприниматель       1\n",
       "Name: income_type, dtype: int64"
      ]
     },
     "execution_count": 637,
     "metadata": {},
     "output_type": "execute_result"
    }
   ],
   "source": [
    "# тип занятости клиентов с пропущенными значениями\n",
    "data[(data['total_income'].isnull() == True) & (data['days_employed'].isnull() == True)]['income_type'].value_counts()"
   ]
  },
  {
   "cell_type": "markdown",
   "metadata": {},
   "source": [
    "Предположение было неверным, клиенты разные. Можно предположить, что клиенты никогда не работали, или работали неофициально. Но поскольку у них указан тип занятости, то врядли они никогда не работали. Госслужащий точно трудоустроен официально. Скорее всего при сборе данных произошла техническая ошибка. Поскольку у нас есть среди клиентов подобные типы можно взять медиану и заменить пропуски. Но в данных только 2 предпринимателя, на основе одного значения медиана или среднее будет совсем не показательна, поэтому предпринимателей перенесем в похожий тип занятости \"компаньон\"."
   ]
  },
  {
   "cell_type": "markdown",
   "metadata": {},
   "source": [
    "### Вывод"
   ]
  },
  {
   "cell_type": "markdown",
   "metadata": {},
   "source": [
    "Каждая строка таблицы содержит информацию о заемщиках. Несколько проблем, которые нужно решить до того как ответить на вопросы: \n",
    "1. типы данных столбцов\n",
    "2. пропуски в _days_employed_ и _total_income_\n",
    "3. огромные значения в _days_employed_\n",
    "4. количество детей -1 и 20 - явно ошибочны\n",
    "5. нулевой возраст\n",
    "6. в столбце _education_ разный регистр\n",
    "7. неопределенный пол XNA\n",
    "8. _days_employed_ — общий трудовой стаж в днях содержит отрицательные значения\n",
    "9. _purpose_ содержит одинаковые по смыслу причины, но записанные по разному"
   ]
  },
  {
   "cell_type": "markdown",
   "metadata": {},
   "source": [
    "# Шаг 2. Предобработка данных  <a id=\"step2\"></a>"
   ]
  },
  {
   "cell_type": "markdown",
   "metadata": {},
   "source": [
    "### Уберем отрицательные значения в столбце 'days_employed'"
   ]
  },
  {
   "cell_type": "code",
   "execution_count": 638,
   "metadata": {},
   "outputs": [
    {
     "data": {
      "text/plain": [
       "0"
      ]
     },
     "execution_count": 638,
     "metadata": {},
     "output_type": "execute_result"
    }
   ],
   "source": [
    "# метод приведения к модулю abs() ко всему столбцу 'days_employed'\n",
    "data[['days_employed']] = data[['days_employed']].abs()\n",
    "# количество отрицательных значений в столбце\n",
    "data[data['days_employed']<0]['days_employed'].count()"
   ]
  },
  {
   "cell_type": "markdown",
   "metadata": {},
   "source": [
    "Отрицательных значений в столбце 'days_employed' не осталось"
   ]
  },
  {
   "cell_type": "markdown",
   "metadata": {},
   "source": [
    "### Обработаем пропуски в 'days_employed' и 'total_income'"
   ]
  },
  {
   "cell_type": "markdown",
   "metadata": {},
   "source": [
    "Как мы уже выяснили пропуски есть в 'days_employed' и 'total_income'.\n",
    "Заменим значения медианой по типу занятости, но перед этим заменим тип занятости предпринимателям на тип \"компаньон\", чтобы получить более валидные результаты."
   ]
  },
  {
   "cell_type": "code",
   "execution_count": 639,
   "metadata": {},
   "outputs": [
    {
     "data": {
      "text/plain": [
       "array(['сотрудник', 'пенсионер', 'компаньон', 'госслужащий',\n",
       "       'безработный', 'студент', 'в декрете'], dtype=object)"
      ]
     },
     "execution_count": 639,
     "metadata": {},
     "output_type": "execute_result"
    }
   ],
   "source": [
    "# замена типа занятости 'предприниматель' на 'компаньон'\n",
    "data['income_type'] = data['income_type'].replace('предприниматель', 'компаньон')\n",
    "\n",
    "# текущие значение в столбце 'income_type' после замены\n",
    "data['income_type'].unique()"
   ]
  },
  {
   "cell_type": "code",
   "execution_count": 640,
   "metadata": {},
   "outputs": [
    {
     "data": {
      "text/html": [
       "<div>\n",
       "<style scoped>\n",
       "    .dataframe tbody tr th:only-of-type {\n",
       "        vertical-align: middle;\n",
       "    }\n",
       "\n",
       "    .dataframe tbody tr th {\n",
       "        vertical-align: top;\n",
       "    }\n",
       "\n",
       "    .dataframe thead tr th {\n",
       "        text-align: left;\n",
       "    }\n",
       "\n",
       "    .dataframe thead tr:last-of-type th {\n",
       "        text-align: right;\n",
       "    }\n",
       "</style>\n",
       "<table border=\"1\" class=\"dataframe\">\n",
       "  <thead>\n",
       "    <tr>\n",
       "      <th></th>\n",
       "      <th>days_employed</th>\n",
       "    </tr>\n",
       "    <tr>\n",
       "      <th></th>\n",
       "      <th>median</th>\n",
       "    </tr>\n",
       "    <tr>\n",
       "      <th>income_type</th>\n",
       "      <th></th>\n",
       "    </tr>\n",
       "  </thead>\n",
       "  <tbody>\n",
       "    <tr>\n",
       "      <td>безработный</td>\n",
       "      <td>366413.652744</td>\n",
       "    </tr>\n",
       "    <tr>\n",
       "      <td>в декрете</td>\n",
       "      <td>3296.759962</td>\n",
       "    </tr>\n",
       "    <tr>\n",
       "      <td>госслужащий</td>\n",
       "      <td>2689.368353</td>\n",
       "    </tr>\n",
       "    <tr>\n",
       "      <td>компаньон</td>\n",
       "      <td>1546.333214</td>\n",
       "    </tr>\n",
       "    <tr>\n",
       "      <td>пенсионер</td>\n",
       "      <td>365213.306266</td>\n",
       "    </tr>\n",
       "    <tr>\n",
       "      <td>сотрудник</td>\n",
       "      <td>1574.202821</td>\n",
       "    </tr>\n",
       "    <tr>\n",
       "      <td>студент</td>\n",
       "      <td>578.751554</td>\n",
       "    </tr>\n",
       "  </tbody>\n",
       "</table>\n",
       "</div>"
      ],
      "text/plain": [
       "             days_employed\n",
       "                    median\n",
       "income_type               \n",
       "безработный  366413.652744\n",
       "в декрете      3296.759962\n",
       "госслужащий    2689.368353\n",
       "компаньон      1546.333214\n",
       "пенсионер    365213.306266\n",
       "сотрудник      1574.202821\n",
       "студент         578.751554"
      ]
     },
     "execution_count": 640,
     "metadata": {},
     "output_type": "execute_result"
    }
   ],
   "source": [
    "# медиана days_employed по типу занятости \n",
    "median_days_employed = data.groupby('income_type').agg({'days_employed':['median']})\n",
    "median_days_employed"
   ]
  },
  {
   "cell_type": "code",
   "execution_count": 641,
   "metadata": {},
   "outputs": [
    {
     "data": {
      "text/html": [
       "<div>\n",
       "<style scoped>\n",
       "    .dataframe tbody tr th:only-of-type {\n",
       "        vertical-align: middle;\n",
       "    }\n",
       "\n",
       "    .dataframe tbody tr th {\n",
       "        vertical-align: top;\n",
       "    }\n",
       "\n",
       "    .dataframe thead tr th {\n",
       "        text-align: left;\n",
       "    }\n",
       "\n",
       "    .dataframe thead tr:last-of-type th {\n",
       "        text-align: right;\n",
       "    }\n",
       "</style>\n",
       "<table border=\"1\" class=\"dataframe\">\n",
       "  <thead>\n",
       "    <tr>\n",
       "      <th></th>\n",
       "      <th>total_income</th>\n",
       "    </tr>\n",
       "    <tr>\n",
       "      <th></th>\n",
       "      <th>median</th>\n",
       "    </tr>\n",
       "    <tr>\n",
       "      <th>income_type</th>\n",
       "      <th></th>\n",
       "    </tr>\n",
       "  </thead>\n",
       "  <tbody>\n",
       "    <tr>\n",
       "      <td>безработный</td>\n",
       "      <td>131339.751676</td>\n",
       "    </tr>\n",
       "    <tr>\n",
       "      <td>в декрете</td>\n",
       "      <td>53829.130729</td>\n",
       "    </tr>\n",
       "    <tr>\n",
       "      <td>госслужащий</td>\n",
       "      <td>150447.935283</td>\n",
       "    </tr>\n",
       "    <tr>\n",
       "      <td>компаньон</td>\n",
       "      <td>172396.000846</td>\n",
       "    </tr>\n",
       "    <tr>\n",
       "      <td>пенсионер</td>\n",
       "      <td>118514.486412</td>\n",
       "    </tr>\n",
       "    <tr>\n",
       "      <td>сотрудник</td>\n",
       "      <td>142594.396847</td>\n",
       "    </tr>\n",
       "    <tr>\n",
       "      <td>студент</td>\n",
       "      <td>98201.625314</td>\n",
       "    </tr>\n",
       "  </tbody>\n",
       "</table>\n",
       "</div>"
      ],
      "text/plain": [
       "              total_income\n",
       "                    median\n",
       "income_type               \n",
       "безработный  131339.751676\n",
       "в декрете     53829.130729\n",
       "госслужащий  150447.935283\n",
       "компаньон    172396.000846\n",
       "пенсионер    118514.486412\n",
       "сотрудник    142594.396847\n",
       "студент       98201.625314"
      ]
     },
     "execution_count": 641,
     "metadata": {},
     "output_type": "execute_result"
    }
   ],
   "source": [
    "# медиана total_income по типу занятости\n",
    "median_total_income = data.groupby('income_type').agg({'total_income':['median']})\n",
    "median_total_income"
   ]
  },
  {
   "cell_type": "code",
   "execution_count": 642,
   "metadata": {},
   "outputs": [],
   "source": [
    "# замена пропусков нулями\n",
    "data = data.fillna(0)\n",
    "# функция замены нулевых значений на медиану\n",
    "def change_null_colums(data, income_type, median_colums):\n",
    "    data.loc[data['income_type'] == income_type,'days_employed'] = data['days_employed'].replace(0,median_days_employed['days_employed']['median'][median_colums])\n",
    "    data.loc[data['income_type'] == income_type,'total_income'] = data['total_income'].replace(0,median_total_income['total_income']['median'][median_colums])\n",
    "# замена нулевых значений в 'days_employed' и 'total_income' на медиану \n",
    "change_null_colums(data, 'сотрудник', 5)\n",
    "change_null_colums(data, 'пенсионер', 4)\n",
    "change_null_colums(data, 'компаньон', 3)\n",
    "change_null_colums(data, 'госслужащий', 2)"
   ]
  },
  {
   "cell_type": "markdown",
   "metadata": {},
   "source": [
    "<div style=\"border:solid green 2px; padding: 20px\"> <h1 style=\"color:green; margin-bottom:20px\">Комментарий ревьюера</h1>\n",
    "\n",
    "Молодец, замена пропусков на медианы по группам - это оптимальное решение.\n",
    "</div>"
   ]
  },
  {
   "cell_type": "code",
   "execution_count": 643,
   "metadata": {},
   "outputs": [
    {
     "data": {
      "text/plain": [
       "Series([], Name: income_type, dtype: int64)"
      ]
     },
     "execution_count": 643,
     "metadata": {},
     "output_type": "execute_result"
    }
   ],
   "source": [
    "# проверка на отсутствие пустых строк\n",
    "data[(data['days_employed'] == 0) & (data['total_income'] == 0)]['income_type'].value_counts()"
   ]
  },
  {
   "cell_type": "markdown",
   "metadata": {},
   "source": [
    "Как видим больше не осталось нулевых значений в столбцах 'days_employed' и 'total_income'"
   ]
  },
  {
   "cell_type": "markdown",
   "metadata": {},
   "source": [
    "### Удалим строки количества детей -1 и 20"
   ]
  },
  {
   "cell_type": "code",
   "execution_count": 645,
   "metadata": {},
   "outputs": [
    {
     "data": {
      "text/plain": [
       "array([1, 0, 3, 2, 4, 5])"
      ]
     },
     "execution_count": 645,
     "metadata": {},
     "output_type": "execute_result"
    }
   ],
   "source": [
    "# удаление данных о клиентах с количество детей -1\n",
    "data.drop(data[data['children']== -1].index, inplace=True)\n",
    "# удаление данных о клиентах с количество детей 20\n",
    "data.drop(data[data['children']== 20].index, inplace=True)\n",
    "# проверка удаления количества детей\n",
    "data['children'].unique()"
   ]
  },
  {
   "cell_type": "markdown",
   "metadata": {},
   "source": [
    "В данных не осталось строк с количеством детей -1 и 20.\n",
    "\n",
    "<div style=\"border:solid green 2px; padding: 20px\"> <h1 style=\"color:green; margin-bottom:20px\">Комментарий ревьюера</h1>\n",
    "\n",
    "Хоршо, аномалии убраны\n",
    "</div>"
   ]
  },
  {
   "cell_type": "markdown",
   "metadata": {},
   "source": [
    "### Избавимся от ошибочных значений"
   ]
  },
  {
   "cell_type": "code",
   "execution_count": 646,
   "metadata": {},
   "outputs": [
    {
     "data": {
      "text/plain": [
       "array([42, 36, 33, 32, 53, 27, 43, 50, 35, 41, 40, 65, 54, 56, 26, 48, 24,\n",
       "       21, 57, 67, 28, 63, 62, 47, 34, 68, 25, 31, 30, 20, 49, 37, 45, 61,\n",
       "       64, 44, 52, 46, 23, 38, 39, 51, 59, 29, 60, 55, 58, 71, 22, 73, 66,\n",
       "       69, 19, 72, 70, 74, 75])"
      ]
     },
     "execution_count": 646,
     "metadata": {},
     "output_type": "execute_result"
    }
   ],
   "source": [
    "# удаление данных о клиентах с нулевым возрастом\n",
    "data.drop(data[data['dob_years']==0].index, inplace=True)\n",
    "# строки с нулевым возрастом успешно удалены\n",
    "data['dob_years'].unique()"
   ]
  },
  {
   "cell_type": "code",
   "execution_count": 647,
   "metadata": {},
   "outputs": [
    {
     "data": {
      "text/plain": [
       "array(['F', 'M'], dtype=object)"
      ]
     },
     "execution_count": 647,
     "metadata": {},
     "output_type": "execute_result"
    }
   ],
   "source": [
    "# удаление одного клиента с полом XNA\n",
    "data.drop(data[data['gender']=='XNA'].index, inplace=True)\n",
    "# строки с неопределенным полом успешно удалены\n",
    "data['gender'].unique()"
   ]
  },
  {
   "cell_type": "markdown",
   "metadata": {},
   "source": [
    "### Обработаем общий трудовой стаж на предмет аномальных значений\n"
   ]
  },
  {
   "cell_type": "code",
   "execution_count": 648,
   "metadata": {},
   "outputs": [
    {
     "data": {
      "text/html": [
       "<div>\n",
       "<style scoped>\n",
       "    .dataframe tbody tr th:only-of-type {\n",
       "        vertical-align: middle;\n",
       "    }\n",
       "\n",
       "    .dataframe tbody tr th {\n",
       "        vertical-align: top;\n",
       "    }\n",
       "\n",
       "    .dataframe thead tr th {\n",
       "        text-align: left;\n",
       "    }\n",
       "\n",
       "    .dataframe thead tr:last-of-type th {\n",
       "        text-align: right;\n",
       "    }\n",
       "</style>\n",
       "<table border=\"1\" class=\"dataframe\">\n",
       "  <thead>\n",
       "    <tr>\n",
       "      <th></th>\n",
       "      <th colspan=\"3\" halign=\"left\">days_employed_year</th>\n",
       "    </tr>\n",
       "    <tr>\n",
       "      <th></th>\n",
       "      <th>mean</th>\n",
       "      <th>min</th>\n",
       "      <th>max</th>\n",
       "    </tr>\n",
       "    <tr>\n",
       "      <th>income_type</th>\n",
       "      <th></th>\n",
       "      <th></th>\n",
       "      <th></th>\n",
       "    </tr>\n",
       "  </thead>\n",
       "  <tbody>\n",
       "    <tr>\n",
       "      <td>безработный</td>\n",
       "      <td>1003.873021</td>\n",
       "      <td>924.724567</td>\n",
       "      <td>1083.021476</td>\n",
       "    </tr>\n",
       "    <tr>\n",
       "      <td>в декрете</td>\n",
       "      <td>9.032219</td>\n",
       "      <td>9.032219</td>\n",
       "      <td>9.032219</td>\n",
       "    </tr>\n",
       "    <tr>\n",
       "      <td>госслужащий</td>\n",
       "      <td>9.099213</td>\n",
       "      <td>0.109463</td>\n",
       "      <td>41.624746</td>\n",
       "    </tr>\n",
       "    <tr>\n",
       "      <td>компаньон</td>\n",
       "      <td>5.649135</td>\n",
       "      <td>0.082727</td>\n",
       "      <td>48.261817</td>\n",
       "    </tr>\n",
       "    <tr>\n",
       "      <td>пенсионер</td>\n",
       "      <td>1000.154038</td>\n",
       "      <td>900.626632</td>\n",
       "      <td>1100.699727</td>\n",
       "    </tr>\n",
       "    <tr>\n",
       "      <td>сотрудник</td>\n",
       "      <td>6.166666</td>\n",
       "      <td>0.066141</td>\n",
       "      <td>50.380685</td>\n",
       "    </tr>\n",
       "    <tr>\n",
       "      <td>студент</td>\n",
       "      <td>1.585621</td>\n",
       "      <td>1.585621</td>\n",
       "      <td>1.585621</td>\n",
       "    </tr>\n",
       "  </tbody>\n",
       "</table>\n",
       "</div>"
      ],
      "text/plain": [
       "            days_employed_year                         \n",
       "                          mean         min          max\n",
       "income_type                                            \n",
       "безработный        1003.873021  924.724567  1083.021476\n",
       "в декрете             9.032219    9.032219     9.032219\n",
       "госслужащий           9.099213    0.109463    41.624746\n",
       "компаньон             5.649135    0.082727    48.261817\n",
       "пенсионер          1000.154038  900.626632  1100.699727\n",
       "сотрудник             6.166666    0.066141    50.380685\n",
       "студент               1.585621    1.585621     1.585621"
      ]
     },
     "execution_count": 648,
     "metadata": {},
     "output_type": "execute_result"
    }
   ],
   "source": [
    "# деление общего трудового стажа в днях на 365, для того чтобы получить количество трудового стажа в годах\n",
    "data['days_employed_year'] = data[data['days_employed'].notnull()]['days_employed']/365\n",
    "days_employed_year = data.groupby('income_type').agg({'days_employed_year':['mean','min','max']})\n",
    "days_employed_year"
   ]
  },
  {
   "cell_type": "markdown",
   "metadata": {},
   "source": [
    "Очевидно, что у безработных и пенсионеров трудовой стаж превышает длительность жизни в РФ )))\n",
    "\n",
    "При оценке показателей выделим их в отдельную категорию. Пенсионеры в силу возраста и так скорее всего попадут в категорию с большим стажем, чего не сказать о безработных. Посмотрим сколько безработных в наших данных."
   ]
  },
  {
   "cell_type": "code",
   "execution_count": 652,
   "metadata": {},
   "outputs": [
    {
     "data": {
      "text/plain": [
       "0"
      ]
     },
     "execution_count": 652,
     "metadata": {},
     "output_type": "execute_result"
    }
   ],
   "source": [
    "data[data['income_type'] == 'безработный']['income_type'].count()"
   ]
  },
  {
   "cell_type": "markdown",
   "metadata": {},
   "source": [
    "Всего два безработных клиента, также удалим их из данных."
   ]
  },
  {
   "cell_type": "code",
   "execution_count": 651,
   "metadata": {},
   "outputs": [
    {
     "data": {
      "text/plain": [
       "array(['сотрудник', 'пенсионер', 'компаньон', 'госслужащий', 'студент',\n",
       "       'в декрете'], dtype=object)"
      ]
     },
     "execution_count": 651,
     "metadata": {},
     "output_type": "execute_result"
    }
   ],
   "source": [
    "# удаление двух безработных\n",
    "data.drop(data[data['income_type']=='безработный'].index, inplace=True)\n",
    "# проверка, что безработных не осталось\n",
    "data['income_type'].unique()"
   ]
  },
  {
   "cell_type": "markdown",
   "metadata": {},
   "source": [
    "Для пенсионеров аномально большие значение не помеха, в дальнейшем мы категоризируем данные и поместим их в группу клиентов с самым большим стажем. А безработных в данных не осталось."
   ]
  },
  {
   "cell_type": "markdown",
   "metadata": {},
   "source": [
    "### Приведем значения в столбце 'education' и 'family_status' к одному регистру"
   ]
  },
  {
   "cell_type": "code",
   "execution_count": 653,
   "metadata": {},
   "outputs": [
    {
     "data": {
      "text/plain": [
       "array(['высшее', 'среднее', 'неоконченное высшее', 'начальное',\n",
       "       'ученая степень'], dtype=object)"
      ]
     },
     "execution_count": 653,
     "metadata": {},
     "output_type": "execute_result"
    }
   ],
   "source": [
    "# перевод значения 'education' в нижний регистр\n",
    "data['education'] = data['education'].str.lower()\n",
    "# значения переведены в нижний регистр\n",
    "data['education'].unique()"
   ]
  },
  {
   "cell_type": "code",
   "execution_count": 654,
   "metadata": {},
   "outputs": [
    {
     "data": {
      "text/plain": [
       "array(['женат / замужем', 'гражданский брак', 'вдовец / вдова',\n",
       "       'в разводе', 'не женат / не замужем'], dtype=object)"
      ]
     },
     "execution_count": 654,
     "metadata": {},
     "output_type": "execute_result"
    }
   ],
   "source": [
    "# перевод значения 'family_status' в нижний регистр\n",
    "data['family_status'] = data['family_status'].str.lower()\n",
    "# значения переведены в нижний регистр\n",
    "data['family_status'].unique()"
   ]
  },
  {
   "cell_type": "markdown",
   "metadata": {},
   "source": [
    "<div style=\"border:solid green 2px; padding: 20px\"> <h1 style=\"color:green; margin-bottom:20px\">Комментарий ревьюера</h1>\n",
    "\n",
    "Отлично, с пропусками и аномалиями верно справились, регистор также унифицирован - это важный момент.\n",
    "</div>"
   ]
  },
  {
   "cell_type": "markdown",
   "metadata": {},
   "source": [
    "### Замена типа данных"
   ]
  },
  {
   "cell_type": "markdown",
   "metadata": {},
   "source": [
    "Заменим тип данных в столбцах 'days_employed', 'total_income', 'debt' методом _astype()_ , так как значения в столбцах числовые, а не строковые, поэтому можно обойтись без метода to_numeric()"
   ]
  },
  {
   "cell_type": "code",
   "execution_count": 655,
   "metadata": {},
   "outputs": [
    {
     "data": {
      "text/plain": [
       "children                int64\n",
       "days_employed           int64\n",
       "dob_years               int64\n",
       "education              object\n",
       "education_id            int64\n",
       "family_status          object\n",
       "family_status_id        int64\n",
       "gender                 object\n",
       "income_type            object\n",
       "debt                     bool\n",
       "total_income            int64\n",
       "purpose                object\n",
       "days_employed_year    float64\n",
       "dtype: object"
      ]
     },
     "execution_count": 655,
     "metadata": {},
     "output_type": "execute_result"
    }
   ],
   "source": [
    "# замена типа столбца 'days_employed' на int\n",
    "data['days_employed'] = data['days_employed'].astype('int')\n",
    "\n",
    "# замена типа столбца 'total_income' на int\n",
    "data['total_income'] = data['total_income'].astype('int')\n",
    "\n",
    "# замена типа столбца 'debt' на bool\n",
    "data['debt'] = data['debt'].astype('bool')\n",
    "\n",
    "# результат замены типов данных\n",
    "data.dtypes"
   ]
  },
  {
   "cell_type": "markdown",
   "metadata": {},
   "source": [
    "### Вывод"
   ]
  },
  {
   "cell_type": "markdown",
   "metadata": {},
   "source": [
    "Мы избавились от некорректных значений и заполнили пустые строки."
   ]
  },
  {
   "cell_type": "code",
   "execution_count": 656,
   "metadata": {},
   "outputs": [
    {
     "data": {
      "text/html": [
       "<div>\n",
       "<style scoped>\n",
       "    .dataframe tbody tr th:only-of-type {\n",
       "        vertical-align: middle;\n",
       "    }\n",
       "\n",
       "    .dataframe tbody tr th {\n",
       "        vertical-align: top;\n",
       "    }\n",
       "\n",
       "    .dataframe thead th {\n",
       "        text-align: right;\n",
       "    }\n",
       "</style>\n",
       "<table border=\"1\" class=\"dataframe\">\n",
       "  <thead>\n",
       "    <tr style=\"text-align: right;\">\n",
       "      <th></th>\n",
       "      <th>children</th>\n",
       "      <th>days_employed</th>\n",
       "      <th>dob_years</th>\n",
       "      <th>education</th>\n",
       "      <th>education_id</th>\n",
       "      <th>family_status</th>\n",
       "      <th>family_status_id</th>\n",
       "      <th>gender</th>\n",
       "      <th>income_type</th>\n",
       "      <th>debt</th>\n",
       "      <th>total_income</th>\n",
       "      <th>purpose</th>\n",
       "      <th>days_employed_year</th>\n",
       "    </tr>\n",
       "  </thead>\n",
       "  <tbody>\n",
       "    <tr>\n",
       "      <td>0</td>\n",
       "      <td>1</td>\n",
       "      <td>8437</td>\n",
       "      <td>42</td>\n",
       "      <td>высшее</td>\n",
       "      <td>0</td>\n",
       "      <td>женат / замужем</td>\n",
       "      <td>0</td>\n",
       "      <td>F</td>\n",
       "      <td>сотрудник</td>\n",
       "      <td>False</td>\n",
       "      <td>253875</td>\n",
       "      <td>покупка жилья</td>\n",
       "      <td>23.116912</td>\n",
       "    </tr>\n",
       "    <tr>\n",
       "      <td>1</td>\n",
       "      <td>1</td>\n",
       "      <td>4024</td>\n",
       "      <td>36</td>\n",
       "      <td>среднее</td>\n",
       "      <td>1</td>\n",
       "      <td>женат / замужем</td>\n",
       "      <td>0</td>\n",
       "      <td>F</td>\n",
       "      <td>сотрудник</td>\n",
       "      <td>False</td>\n",
       "      <td>112080</td>\n",
       "      <td>приобретение автомобиля</td>\n",
       "      <td>11.026860</td>\n",
       "    </tr>\n",
       "    <tr>\n",
       "      <td>2</td>\n",
       "      <td>0</td>\n",
       "      <td>5623</td>\n",
       "      <td>33</td>\n",
       "      <td>среднее</td>\n",
       "      <td>1</td>\n",
       "      <td>женат / замужем</td>\n",
       "      <td>0</td>\n",
       "      <td>M</td>\n",
       "      <td>сотрудник</td>\n",
       "      <td>False</td>\n",
       "      <td>145885</td>\n",
       "      <td>покупка жилья</td>\n",
       "      <td>15.406637</td>\n",
       "    </tr>\n",
       "    <tr>\n",
       "      <td>3</td>\n",
       "      <td>3</td>\n",
       "      <td>4124</td>\n",
       "      <td>32</td>\n",
       "      <td>среднее</td>\n",
       "      <td>1</td>\n",
       "      <td>женат / замужем</td>\n",
       "      <td>0</td>\n",
       "      <td>M</td>\n",
       "      <td>сотрудник</td>\n",
       "      <td>False</td>\n",
       "      <td>267628</td>\n",
       "      <td>дополнительное образование</td>\n",
       "      <td>11.300677</td>\n",
       "    </tr>\n",
       "    <tr>\n",
       "      <td>4</td>\n",
       "      <td>0</td>\n",
       "      <td>340266</td>\n",
       "      <td>53</td>\n",
       "      <td>среднее</td>\n",
       "      <td>1</td>\n",
       "      <td>гражданский брак</td>\n",
       "      <td>1</td>\n",
       "      <td>F</td>\n",
       "      <td>пенсионер</td>\n",
       "      <td>False</td>\n",
       "      <td>158616</td>\n",
       "      <td>сыграть свадьбу</td>\n",
       "      <td>932.235814</td>\n",
       "    </tr>\n",
       "    <tr>\n",
       "      <td>5</td>\n",
       "      <td>0</td>\n",
       "      <td>926</td>\n",
       "      <td>27</td>\n",
       "      <td>высшее</td>\n",
       "      <td>0</td>\n",
       "      <td>гражданский брак</td>\n",
       "      <td>1</td>\n",
       "      <td>M</td>\n",
       "      <td>компаньон</td>\n",
       "      <td>False</td>\n",
       "      <td>255763</td>\n",
       "      <td>покупка жилья</td>\n",
       "      <td>2.537495</td>\n",
       "    </tr>\n",
       "    <tr>\n",
       "      <td>6</td>\n",
       "      <td>0</td>\n",
       "      <td>2879</td>\n",
       "      <td>43</td>\n",
       "      <td>высшее</td>\n",
       "      <td>0</td>\n",
       "      <td>женат / замужем</td>\n",
       "      <td>0</td>\n",
       "      <td>F</td>\n",
       "      <td>компаньон</td>\n",
       "      <td>False</td>\n",
       "      <td>240525</td>\n",
       "      <td>операции с жильем</td>\n",
       "      <td>7.888225</td>\n",
       "    </tr>\n",
       "    <tr>\n",
       "      <td>7</td>\n",
       "      <td>0</td>\n",
       "      <td>152</td>\n",
       "      <td>50</td>\n",
       "      <td>среднее</td>\n",
       "      <td>1</td>\n",
       "      <td>женат / замужем</td>\n",
       "      <td>0</td>\n",
       "      <td>M</td>\n",
       "      <td>сотрудник</td>\n",
       "      <td>False</td>\n",
       "      <td>135823</td>\n",
       "      <td>образование</td>\n",
       "      <td>0.418574</td>\n",
       "    </tr>\n",
       "    <tr>\n",
       "      <td>8</td>\n",
       "      <td>2</td>\n",
       "      <td>6929</td>\n",
       "      <td>35</td>\n",
       "      <td>высшее</td>\n",
       "      <td>0</td>\n",
       "      <td>гражданский брак</td>\n",
       "      <td>1</td>\n",
       "      <td>F</td>\n",
       "      <td>сотрудник</td>\n",
       "      <td>False</td>\n",
       "      <td>95856</td>\n",
       "      <td>на проведение свадьбы</td>\n",
       "      <td>18.985932</td>\n",
       "    </tr>\n",
       "    <tr>\n",
       "      <td>9</td>\n",
       "      <td>0</td>\n",
       "      <td>2188</td>\n",
       "      <td>41</td>\n",
       "      <td>среднее</td>\n",
       "      <td>1</td>\n",
       "      <td>женат / замужем</td>\n",
       "      <td>0</td>\n",
       "      <td>M</td>\n",
       "      <td>сотрудник</td>\n",
       "      <td>False</td>\n",
       "      <td>144425</td>\n",
       "      <td>покупка жилья для семьи</td>\n",
       "      <td>5.996593</td>\n",
       "    </tr>\n",
       "  </tbody>\n",
       "</table>\n",
       "</div>"
      ],
      "text/plain": [
       "   children  days_employed  dob_years education  education_id  \\\n",
       "0         1           8437         42    высшее             0   \n",
       "1         1           4024         36   среднее             1   \n",
       "2         0           5623         33   среднее             1   \n",
       "3         3           4124         32   среднее             1   \n",
       "4         0         340266         53   среднее             1   \n",
       "5         0            926         27    высшее             0   \n",
       "6         0           2879         43    высшее             0   \n",
       "7         0            152         50   среднее             1   \n",
       "8         2           6929         35    высшее             0   \n",
       "9         0           2188         41   среднее             1   \n",
       "\n",
       "      family_status  family_status_id gender income_type   debt  total_income  \\\n",
       "0   женат / замужем                 0      F   сотрудник  False        253875   \n",
       "1   женат / замужем                 0      F   сотрудник  False        112080   \n",
       "2   женат / замужем                 0      M   сотрудник  False        145885   \n",
       "3   женат / замужем                 0      M   сотрудник  False        267628   \n",
       "4  гражданский брак                 1      F   пенсионер  False        158616   \n",
       "5  гражданский брак                 1      M   компаньон  False        255763   \n",
       "6   женат / замужем                 0      F   компаньон  False        240525   \n",
       "7   женат / замужем                 0      M   сотрудник  False        135823   \n",
       "8  гражданский брак                 1      F   сотрудник  False         95856   \n",
       "9   женат / замужем                 0      M   сотрудник  False        144425   \n",
       "\n",
       "                      purpose  days_employed_year  \n",
       "0               покупка жилья           23.116912  \n",
       "1     приобретение автомобиля           11.026860  \n",
       "2               покупка жилья           15.406637  \n",
       "3  дополнительное образование           11.300677  \n",
       "4             сыграть свадьбу          932.235814  \n",
       "5               покупка жилья            2.537495  \n",
       "6           операции с жильем            7.888225  \n",
       "7                 образование            0.418574  \n",
       "8       на проведение свадьбы           18.985932  \n",
       "9     покупка жилья для семьи            5.996593  "
      ]
     },
     "execution_count": 656,
     "metadata": {},
     "output_type": "execute_result"
    }
   ],
   "source": [
    "data.head(10)"
   ]
  },
  {
   "cell_type": "code",
   "execution_count": 657,
   "metadata": {},
   "outputs": [
    {
     "name": "stdout",
     "output_type": "stream",
     "text": [
      "<class 'pandas.core.frame.DataFrame'>\n",
      "Int64Index: 21299 entries, 0 to 21524\n",
      "Data columns (total 13 columns):\n",
      "children              21299 non-null int64\n",
      "days_employed         21299 non-null int64\n",
      "dob_years             21299 non-null int64\n",
      "education             21299 non-null object\n",
      "education_id          21299 non-null int64\n",
      "family_status         21299 non-null object\n",
      "family_status_id      21299 non-null int64\n",
      "gender                21299 non-null object\n",
      "income_type           21299 non-null object\n",
      "debt                  21299 non-null bool\n",
      "total_income          21299 non-null int64\n",
      "purpose               21299 non-null object\n",
      "days_employed_year    21299 non-null float64\n",
      "dtypes: bool(1), float64(1), int64(6), object(5)\n",
      "memory usage: 2.1+ MB\n"
     ]
    }
   ],
   "source": [
    "data.info()"
   ]
  },
  {
   "cell_type": "markdown",
   "metadata": {},
   "source": [
    "После удаления некоторых строк, данных достаточно, чтобы строить выводы по заданным вопросам."
   ]
  },
  {
   "cell_type": "markdown",
   "metadata": {},
   "source": [
    "### Обработка дубликатов"
   ]
  },
  {
   "cell_type": "code",
   "execution_count": 658,
   "metadata": {},
   "outputs": [
    {
     "data": {
      "text/plain": [
       "71"
      ]
     },
     "execution_count": 658,
     "metadata": {},
     "output_type": "execute_result"
    }
   ],
   "source": [
    "# получение суммарного количества дубликатов в таблице data\n",
    "data.duplicated().sum()"
   ]
  },
  {
   "cell_type": "markdown",
   "metadata": {},
   "source": [
    "Дубликаты могли образоваться в результате склейки разных файлов с одинаковым набором данных. Или же в результате человеческой ошибки, возможно оператор, который вносил данные, дважды добавил данные о клиенте в базу."
   ]
  },
  {
   "cell_type": "code",
   "execution_count": 659,
   "metadata": {},
   "outputs": [
    {
     "data": {
      "text/plain": [
       "0"
      ]
     },
     "execution_count": 659,
     "metadata": {},
     "output_type": "execute_result"
    }
   ],
   "source": [
    "# удаление всех дубликаты из таблицы data специальным методом\n",
    "data = data.drop_duplicates().reset_index(drop = True)\n",
    "# аргумент drop со значением True,\n",
    "# чтобы не создавать столбец со\n",
    "# старыми значениями индексов\n",
    "\n",
    "# проверка, что дубликаты отсутствуют\n",
    "data.duplicated().sum()"
   ]
  },
  {
   "cell_type": "markdown",
   "metadata": {},
   "source": [
    "Для удаления дубликатов использовался метод _drop_duplicates_, т.к. это единственный метод с необходимой функцией, который я знаю."
   ]
  },
  {
   "cell_type": "markdown",
   "metadata": {},
   "source": [
    "### Вывод"
   ]
  },
  {
   "cell_type": "markdown",
   "metadata": {},
   "source": [
    "На этапе предобработки в данных обнаружились не только пропуски и проблемы с данными в столбцах, но и всяческие виды дубликатов. Их удаление позволит провести анализ точнее. "
   ]
  },
  {
   "cell_type": "markdown",
   "metadata": {},
   "source": [
    "### Лемматизация"
   ]
  },
  {
   "cell_type": "markdown",
   "metadata": {},
   "source": [
    "Поскольку сведения о целях получения кредита важно сохранить для анализа, то проведем лемматизацию, или приведение слова к его словарной форме (лемме)."
   ]
  },
  {
   "cell_type": "code",
   "execution_count": 660,
   "metadata": {},
   "outputs": [
    {
     "data": {
      "text/html": [
       "<div>\n",
       "<style scoped>\n",
       "    .dataframe tbody tr th:only-of-type {\n",
       "        vertical-align: middle;\n",
       "    }\n",
       "\n",
       "    .dataframe tbody tr th {\n",
       "        vertical-align: top;\n",
       "    }\n",
       "\n",
       "    .dataframe thead th {\n",
       "        text-align: right;\n",
       "    }\n",
       "</style>\n",
       "<table border=\"1\" class=\"dataframe\">\n",
       "  <thead>\n",
       "    <tr style=\"text-align: right;\">\n",
       "      <th></th>\n",
       "      <th>children</th>\n",
       "      <th>days_employed</th>\n",
       "      <th>dob_years</th>\n",
       "      <th>education</th>\n",
       "      <th>education_id</th>\n",
       "      <th>family_status</th>\n",
       "      <th>family_status_id</th>\n",
       "      <th>gender</th>\n",
       "      <th>income_type</th>\n",
       "      <th>debt</th>\n",
       "      <th>total_income</th>\n",
       "      <th>purpose</th>\n",
       "      <th>days_employed_year</th>\n",
       "      <th>purpose_lemma</th>\n",
       "    </tr>\n",
       "  </thead>\n",
       "  <tbody>\n",
       "    <tr>\n",
       "      <td>0</td>\n",
       "      <td>1</td>\n",
       "      <td>8437</td>\n",
       "      <td>42</td>\n",
       "      <td>высшее</td>\n",
       "      <td>0</td>\n",
       "      <td>женат / замужем</td>\n",
       "      <td>0</td>\n",
       "      <td>F</td>\n",
       "      <td>сотрудник</td>\n",
       "      <td>False</td>\n",
       "      <td>253875</td>\n",
       "      <td>покупка жилья</td>\n",
       "      <td>23.116912</td>\n",
       "      <td>[покупка,  , жилье, \\n]</td>\n",
       "    </tr>\n",
       "    <tr>\n",
       "      <td>1</td>\n",
       "      <td>1</td>\n",
       "      <td>4024</td>\n",
       "      <td>36</td>\n",
       "      <td>среднее</td>\n",
       "      <td>1</td>\n",
       "      <td>женат / замужем</td>\n",
       "      <td>0</td>\n",
       "      <td>F</td>\n",
       "      <td>сотрудник</td>\n",
       "      <td>False</td>\n",
       "      <td>112080</td>\n",
       "      <td>приобретение автомобиля</td>\n",
       "      <td>11.026860</td>\n",
       "      <td>[приобретение,  , автомобиль, \\n]</td>\n",
       "    </tr>\n",
       "    <tr>\n",
       "      <td>2</td>\n",
       "      <td>0</td>\n",
       "      <td>5623</td>\n",
       "      <td>33</td>\n",
       "      <td>среднее</td>\n",
       "      <td>1</td>\n",
       "      <td>женат / замужем</td>\n",
       "      <td>0</td>\n",
       "      <td>M</td>\n",
       "      <td>сотрудник</td>\n",
       "      <td>False</td>\n",
       "      <td>145885</td>\n",
       "      <td>покупка жилья</td>\n",
       "      <td>15.406637</td>\n",
       "      <td>[покупка,  , жилье, \\n]</td>\n",
       "    </tr>\n",
       "    <tr>\n",
       "      <td>3</td>\n",
       "      <td>3</td>\n",
       "      <td>4124</td>\n",
       "      <td>32</td>\n",
       "      <td>среднее</td>\n",
       "      <td>1</td>\n",
       "      <td>женат / замужем</td>\n",
       "      <td>0</td>\n",
       "      <td>M</td>\n",
       "      <td>сотрудник</td>\n",
       "      <td>False</td>\n",
       "      <td>267628</td>\n",
       "      <td>дополнительное образование</td>\n",
       "      <td>11.300677</td>\n",
       "      <td>[дополнительный,  , образование, \\n]</td>\n",
       "    </tr>\n",
       "    <tr>\n",
       "      <td>4</td>\n",
       "      <td>0</td>\n",
       "      <td>340266</td>\n",
       "      <td>53</td>\n",
       "      <td>среднее</td>\n",
       "      <td>1</td>\n",
       "      <td>гражданский брак</td>\n",
       "      <td>1</td>\n",
       "      <td>F</td>\n",
       "      <td>пенсионер</td>\n",
       "      <td>False</td>\n",
       "      <td>158616</td>\n",
       "      <td>сыграть свадьбу</td>\n",
       "      <td>932.235814</td>\n",
       "      <td>[сыграть,  , свадьба, \\n]</td>\n",
       "    </tr>\n",
       "  </tbody>\n",
       "</table>\n",
       "</div>"
      ],
      "text/plain": [
       "   children  days_employed  dob_years education  education_id  \\\n",
       "0         1           8437         42    высшее             0   \n",
       "1         1           4024         36   среднее             1   \n",
       "2         0           5623         33   среднее             1   \n",
       "3         3           4124         32   среднее             1   \n",
       "4         0         340266         53   среднее             1   \n",
       "\n",
       "      family_status  family_status_id gender income_type   debt  total_income  \\\n",
       "0   женат / замужем                 0      F   сотрудник  False        253875   \n",
       "1   женат / замужем                 0      F   сотрудник  False        112080   \n",
       "2   женат / замужем                 0      M   сотрудник  False        145885   \n",
       "3   женат / замужем                 0      M   сотрудник  False        267628   \n",
       "4  гражданский брак                 1      F   пенсионер  False        158616   \n",
       "\n",
       "                      purpose  days_employed_year  \\\n",
       "0               покупка жилья           23.116912   \n",
       "1     приобретение автомобиля           11.026860   \n",
       "2               покупка жилья           15.406637   \n",
       "3  дополнительное образование           11.300677   \n",
       "4             сыграть свадьбу          932.235814   \n",
       "\n",
       "                          purpose_lemma  \n",
       "0               [покупка,  , жилье, \\n]  \n",
       "1     [приобретение,  , автомобиль, \\n]  \n",
       "2               [покупка,  , жилье, \\n]  \n",
       "3  [дополнительный,  , образование, \\n]  \n",
       "4             [сыграть,  , свадьба, \\n]  "
      ]
     },
     "execution_count": 660,
     "metadata": {},
     "output_type": "execute_result"
    }
   ],
   "source": [
    "# функция лемматизации\n",
    "def split_lemma(purpose):\n",
    "    lemma = m.lemmatize(purpose)\n",
    "    return lemma\n",
    "\n",
    "# лемматизация списка целей получения кредита\n",
    "data['purpose_lemma'] = data['purpose'].apply(split_lemma)\n",
    "\n",
    "data.head()"
   ]
  },
  {
   "cell_type": "code",
   "execution_count": 661,
   "metadata": {},
   "outputs": [
    {
     "data": {
      "text/plain": [
       "Counter({'покупка': 5837,\n",
       "         ' ': 33240,\n",
       "         'жилье': 4411,\n",
       "         '\\n': 21228,\n",
       "         'приобретение': 457,\n",
       "         'автомобиль': 4258,\n",
       "         'дополнительный': 895,\n",
       "         'образование': 3970,\n",
       "         'сыграть': 755,\n",
       "         'свадьба': 2299,\n",
       "         'операция': 2576,\n",
       "         'с': 2886,\n",
       "         'на': 2196,\n",
       "         'проведение': 759,\n",
       "         'для': 1282,\n",
       "         'семья': 636,\n",
       "         'недвижимость': 6290,\n",
       "         'коммерческий': 1298,\n",
       "         'жилой': 1216,\n",
       "         'строительство': 1862,\n",
       "         'собственный': 626,\n",
       "         'подержать': 471,\n",
       "         'свой': 2212,\n",
       "         'со': 623,\n",
       "         'заниматься': 900,\n",
       "         'сделка': 933,\n",
       "         'подержанный': 479,\n",
       "         'получение': 1304,\n",
       "         'высокий': 1359,\n",
       "         'профильный': 431,\n",
       "         'сдача': 646,\n",
       "         'ремонт': 601})"
      ]
     },
     "execution_count": 661,
     "metadata": {},
     "output_type": "execute_result"
    }
   ],
   "source": [
    "# изучение сколько получилось уникальных причин\n",
    "# для этого надо столбец data['purpose_lemma'] превратить в список\n",
    "list_lemmas = []\n",
    "for elem in data['purpose_lemma']:\n",
    "    for item in elem:\n",
    "        list_lemmas.append(item)\n",
    "\n",
    "unique_lemmas = Counter(list_lemmas)\n",
    "unique_lemmas"
   ]
  },
  {
   "cell_type": "markdown",
   "metadata": {},
   "source": [
    "Выделим существительные из полученного набора уникальных значений:\n",
    "* покупка\n",
    "* приобретение\n",
    "* семья\n",
    "* строительство\n",
    "* жилье\n",
    "* недвижимость\n",
    "* сделка\n",
    "* сдача\n",
    "* ремонт\n",
    "* автомобиль\n",
    "* свадьба\n",
    "* образование\n",
    "* операция\n",
    "* получение\n",
    "\n",
    "Судя по анализу уникальных значений, который мы производили выше, следующие слова можно выделить в категорию \"недвижимость\":\n",
    "* покупка\n",
    "* семья\n",
    "* строительство\n",
    "* жилье\n",
    "* недвижимость\n",
    "* сделка\n",
    "* сдача\n",
    "* ремонт\n",
    "* операция\n",
    "\n",
    "В категорию \"автомобиль\":\n",
    "* приобретение\n",
    "* автомобиль\n",
    "\n",
    "В категорию \"образование\":\n",
    "* получение\n",
    "* образование\n",
    "\n",
    "В категорию \"свадьба\":\n",
    "* проведение\n",
    "* свадьба\n",
    "\n",
    "Данные можно категоризовать по следующим целям кредита:\n",
    "* недвижимость\n",
    "* автомобиль\n",
    "* свадьба\n",
    "* образование"
   ]
  },
  {
   "cell_type": "markdown",
   "metadata": {},
   "source": [
    "### Вывод"
   ]
  },
  {
   "cell_type": "markdown",
   "metadata": {},
   "source": [
    "Мы получили список целей получения кредита.\n",
    "На следующем этапе категоризируем данные, каждой строке в _data['purpose']_ назначим категорию."
   ]
  },
  {
   "cell_type": "markdown",
   "metadata": {},
   "source": [
    "### Категоризация данных"
   ]
  },
  {
   "cell_type": "markdown",
   "metadata": {},
   "source": [
    "#### Разобьем на категории столбец 'purpose'"
   ]
  },
  {
   "cell_type": "markdown",
   "metadata": {},
   "source": [
    "Выше мы уже обсуждали, что похожие цели кредита сформулированы разными словами, наведём порядок в данных для удобства дальнейшего анализа."
   ]
  },
  {
   "cell_type": "code",
   "execution_count": 662,
   "metadata": {},
   "outputs": [
    {
     "data": {
      "text/html": [
       "<div>\n",
       "<style scoped>\n",
       "    .dataframe tbody tr th:only-of-type {\n",
       "        vertical-align: middle;\n",
       "    }\n",
       "\n",
       "    .dataframe tbody tr th {\n",
       "        vertical-align: top;\n",
       "    }\n",
       "\n",
       "    .dataframe thead th {\n",
       "        text-align: right;\n",
       "    }\n",
       "</style>\n",
       "<table border=\"1\" class=\"dataframe\">\n",
       "  <thead>\n",
       "    <tr style=\"text-align: right;\">\n",
       "      <th></th>\n",
       "      <th>children</th>\n",
       "      <th>days_employed</th>\n",
       "      <th>dob_years</th>\n",
       "      <th>education</th>\n",
       "      <th>education_id</th>\n",
       "      <th>family_status</th>\n",
       "      <th>family_status_id</th>\n",
       "      <th>gender</th>\n",
       "      <th>income_type</th>\n",
       "      <th>debt</th>\n",
       "      <th>total_income</th>\n",
       "      <th>purpose</th>\n",
       "      <th>days_employed_year</th>\n",
       "      <th>purpose_lemma</th>\n",
       "      <th>purpose_group</th>\n",
       "    </tr>\n",
       "  </thead>\n",
       "  <tbody>\n",
       "    <tr>\n",
       "      <td>0</td>\n",
       "      <td>1</td>\n",
       "      <td>8437</td>\n",
       "      <td>42</td>\n",
       "      <td>высшее</td>\n",
       "      <td>0</td>\n",
       "      <td>женат / замужем</td>\n",
       "      <td>0</td>\n",
       "      <td>F</td>\n",
       "      <td>сотрудник</td>\n",
       "      <td>False</td>\n",
       "      <td>253875</td>\n",
       "      <td>покупка жилья</td>\n",
       "      <td>23.116912</td>\n",
       "      <td>[покупка,  , жилье, \\n]</td>\n",
       "      <td>недвижимость</td>\n",
       "    </tr>\n",
       "    <tr>\n",
       "      <td>1</td>\n",
       "      <td>1</td>\n",
       "      <td>4024</td>\n",
       "      <td>36</td>\n",
       "      <td>среднее</td>\n",
       "      <td>1</td>\n",
       "      <td>женат / замужем</td>\n",
       "      <td>0</td>\n",
       "      <td>F</td>\n",
       "      <td>сотрудник</td>\n",
       "      <td>False</td>\n",
       "      <td>112080</td>\n",
       "      <td>приобретение автомобиля</td>\n",
       "      <td>11.026860</td>\n",
       "      <td>[приобретение,  , автомобиль, \\n]</td>\n",
       "      <td>автомобиль</td>\n",
       "    </tr>\n",
       "    <tr>\n",
       "      <td>2</td>\n",
       "      <td>0</td>\n",
       "      <td>5623</td>\n",
       "      <td>33</td>\n",
       "      <td>среднее</td>\n",
       "      <td>1</td>\n",
       "      <td>женат / замужем</td>\n",
       "      <td>0</td>\n",
       "      <td>M</td>\n",
       "      <td>сотрудник</td>\n",
       "      <td>False</td>\n",
       "      <td>145885</td>\n",
       "      <td>покупка жилья</td>\n",
       "      <td>15.406637</td>\n",
       "      <td>[покупка,  , жилье, \\n]</td>\n",
       "      <td>недвижимость</td>\n",
       "    </tr>\n",
       "    <tr>\n",
       "      <td>3</td>\n",
       "      <td>3</td>\n",
       "      <td>4124</td>\n",
       "      <td>32</td>\n",
       "      <td>среднее</td>\n",
       "      <td>1</td>\n",
       "      <td>женат / замужем</td>\n",
       "      <td>0</td>\n",
       "      <td>M</td>\n",
       "      <td>сотрудник</td>\n",
       "      <td>False</td>\n",
       "      <td>267628</td>\n",
       "      <td>дополнительное образование</td>\n",
       "      <td>11.300677</td>\n",
       "      <td>[дополнительный,  , образование, \\n]</td>\n",
       "      <td>образование</td>\n",
       "    </tr>\n",
       "    <tr>\n",
       "      <td>4</td>\n",
       "      <td>0</td>\n",
       "      <td>340266</td>\n",
       "      <td>53</td>\n",
       "      <td>среднее</td>\n",
       "      <td>1</td>\n",
       "      <td>гражданский брак</td>\n",
       "      <td>1</td>\n",
       "      <td>F</td>\n",
       "      <td>пенсионер</td>\n",
       "      <td>False</td>\n",
       "      <td>158616</td>\n",
       "      <td>сыграть свадьбу</td>\n",
       "      <td>932.235814</td>\n",
       "      <td>[сыграть,  , свадьба, \\n]</td>\n",
       "      <td>свадьба</td>\n",
       "    </tr>\n",
       "    <tr>\n",
       "      <td>5</td>\n",
       "      <td>0</td>\n",
       "      <td>926</td>\n",
       "      <td>27</td>\n",
       "      <td>высшее</td>\n",
       "      <td>0</td>\n",
       "      <td>гражданский брак</td>\n",
       "      <td>1</td>\n",
       "      <td>M</td>\n",
       "      <td>компаньон</td>\n",
       "      <td>False</td>\n",
       "      <td>255763</td>\n",
       "      <td>покупка жилья</td>\n",
       "      <td>2.537495</td>\n",
       "      <td>[покупка,  , жилье, \\n]</td>\n",
       "      <td>недвижимость</td>\n",
       "    </tr>\n",
       "    <tr>\n",
       "      <td>6</td>\n",
       "      <td>0</td>\n",
       "      <td>2879</td>\n",
       "      <td>43</td>\n",
       "      <td>высшее</td>\n",
       "      <td>0</td>\n",
       "      <td>женат / замужем</td>\n",
       "      <td>0</td>\n",
       "      <td>F</td>\n",
       "      <td>компаньон</td>\n",
       "      <td>False</td>\n",
       "      <td>240525</td>\n",
       "      <td>операции с жильем</td>\n",
       "      <td>7.888225</td>\n",
       "      <td>[операция,  , с,  , жилье, \\n]</td>\n",
       "      <td>недвижимость</td>\n",
       "    </tr>\n",
       "    <tr>\n",
       "      <td>7</td>\n",
       "      <td>0</td>\n",
       "      <td>152</td>\n",
       "      <td>50</td>\n",
       "      <td>среднее</td>\n",
       "      <td>1</td>\n",
       "      <td>женат / замужем</td>\n",
       "      <td>0</td>\n",
       "      <td>M</td>\n",
       "      <td>сотрудник</td>\n",
       "      <td>False</td>\n",
       "      <td>135823</td>\n",
       "      <td>образование</td>\n",
       "      <td>0.418574</td>\n",
       "      <td>[образование, \\n]</td>\n",
       "      <td>образование</td>\n",
       "    </tr>\n",
       "    <tr>\n",
       "      <td>8</td>\n",
       "      <td>2</td>\n",
       "      <td>6929</td>\n",
       "      <td>35</td>\n",
       "      <td>высшее</td>\n",
       "      <td>0</td>\n",
       "      <td>гражданский брак</td>\n",
       "      <td>1</td>\n",
       "      <td>F</td>\n",
       "      <td>сотрудник</td>\n",
       "      <td>False</td>\n",
       "      <td>95856</td>\n",
       "      <td>на проведение свадьбы</td>\n",
       "      <td>18.985932</td>\n",
       "      <td>[на,  , проведение,  , свадьба, \\n]</td>\n",
       "      <td>свадьба</td>\n",
       "    </tr>\n",
       "    <tr>\n",
       "      <td>9</td>\n",
       "      <td>0</td>\n",
       "      <td>2188</td>\n",
       "      <td>41</td>\n",
       "      <td>среднее</td>\n",
       "      <td>1</td>\n",
       "      <td>женат / замужем</td>\n",
       "      <td>0</td>\n",
       "      <td>M</td>\n",
       "      <td>сотрудник</td>\n",
       "      <td>False</td>\n",
       "      <td>144425</td>\n",
       "      <td>покупка жилья для семьи</td>\n",
       "      <td>5.996593</td>\n",
       "      <td>[покупка,  , жилье,  , для,  , семья, \\n]</td>\n",
       "      <td>недвижимость</td>\n",
       "    </tr>\n",
       "  </tbody>\n",
       "</table>\n",
       "</div>"
      ],
      "text/plain": [
       "   children  days_employed  dob_years education  education_id  \\\n",
       "0         1           8437         42    высшее             0   \n",
       "1         1           4024         36   среднее             1   \n",
       "2         0           5623         33   среднее             1   \n",
       "3         3           4124         32   среднее             1   \n",
       "4         0         340266         53   среднее             1   \n",
       "5         0            926         27    высшее             0   \n",
       "6         0           2879         43    высшее             0   \n",
       "7         0            152         50   среднее             1   \n",
       "8         2           6929         35    высшее             0   \n",
       "9         0           2188         41   среднее             1   \n",
       "\n",
       "      family_status  family_status_id gender income_type   debt  total_income  \\\n",
       "0   женат / замужем                 0      F   сотрудник  False        253875   \n",
       "1   женат / замужем                 0      F   сотрудник  False        112080   \n",
       "2   женат / замужем                 0      M   сотрудник  False        145885   \n",
       "3   женат / замужем                 0      M   сотрудник  False        267628   \n",
       "4  гражданский брак                 1      F   пенсионер  False        158616   \n",
       "5  гражданский брак                 1      M   компаньон  False        255763   \n",
       "6   женат / замужем                 0      F   компаньон  False        240525   \n",
       "7   женат / замужем                 0      M   сотрудник  False        135823   \n",
       "8  гражданский брак                 1      F   сотрудник  False         95856   \n",
       "9   женат / замужем                 0      M   сотрудник  False        144425   \n",
       "\n",
       "                      purpose  days_employed_year  \\\n",
       "0               покупка жилья           23.116912   \n",
       "1     приобретение автомобиля           11.026860   \n",
       "2               покупка жилья           15.406637   \n",
       "3  дополнительное образование           11.300677   \n",
       "4             сыграть свадьбу          932.235814   \n",
       "5               покупка жилья            2.537495   \n",
       "6           операции с жильем            7.888225   \n",
       "7                 образование            0.418574   \n",
       "8       на проведение свадьбы           18.985932   \n",
       "9     покупка жилья для семьи            5.996593   \n",
       "\n",
       "                               purpose_lemma purpose_group  \n",
       "0                    [покупка,  , жилье, \\n]  недвижимость  \n",
       "1          [приобретение,  , автомобиль, \\n]    автомобиль  \n",
       "2                    [покупка,  , жилье, \\n]  недвижимость  \n",
       "3       [дополнительный,  , образование, \\n]   образование  \n",
       "4                  [сыграть,  , свадьба, \\n]       свадьба  \n",
       "5                    [покупка,  , жилье, \\n]  недвижимость  \n",
       "6             [операция,  , с,  , жилье, \\n]  недвижимость  \n",
       "7                          [образование, \\n]   образование  \n",
       "8        [на,  , проведение,  , свадьба, \\n]       свадьба  \n",
       "9  [покупка,  , жилье,  , для,  , семья, \\n]  недвижимость  "
      ]
     },
     "execution_count": 662,
     "metadata": {},
     "output_type": "execute_result"
    }
   ],
   "source": [
    "# функция категоризации целей кредита по выделенным выше категориям\n",
    "def do_group_for_purpose(data):\n",
    "    if 'жилье' in data:\n",
    "        return 'недвижимость'\n",
    "    elif 'покупка' in data:\n",
    "        return 'недвижимость'\n",
    "    elif 'семья' in data:\n",
    "        return 'недвижимость'\n",
    "    elif 'строительство' in data:\n",
    "        return 'недвижимость'\n",
    "    elif 'недвижимость' in data:\n",
    "        return 'недвижимость'\n",
    "    elif 'сделка' in data:\n",
    "        return 'недвижимость'\n",
    "    elif 'сдача' in data:\n",
    "        return 'недвижимость'\n",
    "    elif 'ремонт' in data:\n",
    "        return 'недвижимость'\n",
    "    elif 'операция' in data:\n",
    "        return 'недвижимость'    \n",
    "    elif 'автомобиль' in data:\n",
    "        return 'автомобиль'    \n",
    "    elif 'свадьба' in data:\n",
    "        return 'свадьба'   \n",
    "    elif 'образование' in data:\n",
    "        return 'образование'     \n",
    "    else:\n",
    "        return 'неизвестная'\n",
    "    \n",
    "# применение функции do_group_for_purpose ко всем значениям столбца purpose_lemma\n",
    "data['purpose_group'] = data['purpose_lemma'].apply(do_group_for_purpose)\n",
    "data.head(10)"
   ]
  },
  {
   "cell_type": "code",
   "execution_count": 663,
   "metadata": {},
   "outputs": [
    {
     "data": {
      "text/plain": [
       "0"
      ]
     },
     "execution_count": 663,
     "metadata": {},
     "output_type": "execute_result"
    }
   ],
   "source": [
    "# проверка, что всем данным присвоены категории для целей кредита\n",
    "data[data['purpose_group'] == 'неизвестная']['purpose_group'].count()"
   ]
  },
  {
   "cell_type": "markdown",
   "metadata": {},
   "source": [
    "#### Разобьем на классы столбец 'days_employed'"
   ]
  },
  {
   "cell_type": "markdown",
   "metadata": {},
   "source": [
    "* до 3 лет\n",
    "* от 3 до 5 лет\n",
    "* от 5 до 10 лет\n",
    "* от 10 до 50 лет\n",
    "* более 50 лет"
   ]
  },
  {
   "cell_type": "code",
   "execution_count": 706,
   "metadata": {},
   "outputs": [
    {
     "data": {
      "text/html": [
       "<div>\n",
       "<style scoped>\n",
       "    .dataframe tbody tr th:only-of-type {\n",
       "        vertical-align: middle;\n",
       "    }\n",
       "\n",
       "    .dataframe tbody tr th {\n",
       "        vertical-align: top;\n",
       "    }\n",
       "\n",
       "    .dataframe thead th {\n",
       "        text-align: right;\n",
       "    }\n",
       "</style>\n",
       "<table border=\"1\" class=\"dataframe\">\n",
       "  <thead>\n",
       "    <tr style=\"text-align: right;\">\n",
       "      <th></th>\n",
       "      <th>children</th>\n",
       "      <th>days_employed</th>\n",
       "      <th>dob_years</th>\n",
       "      <th>education</th>\n",
       "      <th>education_id</th>\n",
       "      <th>family_status</th>\n",
       "      <th>family_status_id</th>\n",
       "      <th>gender</th>\n",
       "      <th>income_type</th>\n",
       "      <th>debt</th>\n",
       "      <th>total_income</th>\n",
       "      <th>purpose</th>\n",
       "      <th>days_employed_year</th>\n",
       "      <th>purpose_lemma</th>\n",
       "      <th>purpose_group</th>\n",
       "      <th>days_employed_group</th>\n",
       "      <th>dob_years_group</th>\n",
       "      <th>children_group</th>\n",
       "      <th>total_income_group</th>\n",
       "    </tr>\n",
       "  </thead>\n",
       "  <tbody>\n",
       "    <tr>\n",
       "      <td>0</td>\n",
       "      <td>1</td>\n",
       "      <td>8437</td>\n",
       "      <td>42</td>\n",
       "      <td>высшее</td>\n",
       "      <td>0</td>\n",
       "      <td>женат / замужем</td>\n",
       "      <td>0</td>\n",
       "      <td>F</td>\n",
       "      <td>сотрудник</td>\n",
       "      <td>False</td>\n",
       "      <td>253875</td>\n",
       "      <td>покупка жилья</td>\n",
       "      <td>23.116912</td>\n",
       "      <td>[покупка,  , жилье, \\n]</td>\n",
       "      <td>недвижимость</td>\n",
       "      <td>11-50 лет</td>\n",
       "      <td>30-45 лет</td>\n",
       "      <td>есть дети</td>\n",
       "      <td>от 150 000 до 300 000 рублей</td>\n",
       "    </tr>\n",
       "    <tr>\n",
       "      <td>1</td>\n",
       "      <td>1</td>\n",
       "      <td>4024</td>\n",
       "      <td>36</td>\n",
       "      <td>среднее</td>\n",
       "      <td>1</td>\n",
       "      <td>женат / замужем</td>\n",
       "      <td>0</td>\n",
       "      <td>F</td>\n",
       "      <td>сотрудник</td>\n",
       "      <td>False</td>\n",
       "      <td>112080</td>\n",
       "      <td>приобретение автомобиля</td>\n",
       "      <td>11.026860</td>\n",
       "      <td>[приобретение,  , автомобиль, \\n]</td>\n",
       "      <td>автомобиль</td>\n",
       "      <td>11-50 лет</td>\n",
       "      <td>30-45 лет</td>\n",
       "      <td>есть дети</td>\n",
       "      <td>от 50 000 до 150 000 рублей</td>\n",
       "    </tr>\n",
       "    <tr>\n",
       "      <td>2</td>\n",
       "      <td>0</td>\n",
       "      <td>5623</td>\n",
       "      <td>33</td>\n",
       "      <td>среднее</td>\n",
       "      <td>1</td>\n",
       "      <td>женат / замужем</td>\n",
       "      <td>0</td>\n",
       "      <td>M</td>\n",
       "      <td>сотрудник</td>\n",
       "      <td>False</td>\n",
       "      <td>145885</td>\n",
       "      <td>покупка жилья</td>\n",
       "      <td>15.406637</td>\n",
       "      <td>[покупка,  , жилье, \\n]</td>\n",
       "      <td>недвижимость</td>\n",
       "      <td>11-50 лет</td>\n",
       "      <td>30-45 лет</td>\n",
       "      <td>нет детей</td>\n",
       "      <td>от 50 000 до 150 000 рублей</td>\n",
       "    </tr>\n",
       "    <tr>\n",
       "      <td>3</td>\n",
       "      <td>3</td>\n",
       "      <td>4124</td>\n",
       "      <td>32</td>\n",
       "      <td>среднее</td>\n",
       "      <td>1</td>\n",
       "      <td>женат / замужем</td>\n",
       "      <td>0</td>\n",
       "      <td>M</td>\n",
       "      <td>сотрудник</td>\n",
       "      <td>False</td>\n",
       "      <td>267628</td>\n",
       "      <td>дополнительное образование</td>\n",
       "      <td>11.300677</td>\n",
       "      <td>[дополнительный,  , образование, \\n]</td>\n",
       "      <td>образование</td>\n",
       "      <td>11-50 лет</td>\n",
       "      <td>30-45 лет</td>\n",
       "      <td>есть дети</td>\n",
       "      <td>от 150 000 до 300 000 рублей</td>\n",
       "    </tr>\n",
       "    <tr>\n",
       "      <td>4</td>\n",
       "      <td>0</td>\n",
       "      <td>340266</td>\n",
       "      <td>53</td>\n",
       "      <td>среднее</td>\n",
       "      <td>1</td>\n",
       "      <td>гражданский брак</td>\n",
       "      <td>1</td>\n",
       "      <td>F</td>\n",
       "      <td>пенсионер</td>\n",
       "      <td>False</td>\n",
       "      <td>158616</td>\n",
       "      <td>сыграть свадьбу</td>\n",
       "      <td>932.235814</td>\n",
       "      <td>[сыграть,  , свадьба, \\n]</td>\n",
       "      <td>свадьба</td>\n",
       "      <td>более 50 лет</td>\n",
       "      <td>45-65 лет</td>\n",
       "      <td>нет детей</td>\n",
       "      <td>от 150 000 до 300 000 рублей</td>\n",
       "    </tr>\n",
       "  </tbody>\n",
       "</table>\n",
       "</div>"
      ],
      "text/plain": [
       "   children  days_employed  dob_years education  education_id  \\\n",
       "0         1           8437         42    высшее             0   \n",
       "1         1           4024         36   среднее             1   \n",
       "2         0           5623         33   среднее             1   \n",
       "3         3           4124         32   среднее             1   \n",
       "4         0         340266         53   среднее             1   \n",
       "\n",
       "      family_status  family_status_id gender income_type   debt  total_income  \\\n",
       "0   женат / замужем                 0      F   сотрудник  False        253875   \n",
       "1   женат / замужем                 0      F   сотрудник  False        112080   \n",
       "2   женат / замужем                 0      M   сотрудник  False        145885   \n",
       "3   женат / замужем                 0      M   сотрудник  False        267628   \n",
       "4  гражданский брак                 1      F   пенсионер  False        158616   \n",
       "\n",
       "                      purpose  days_employed_year  \\\n",
       "0               покупка жилья           23.116912   \n",
       "1     приобретение автомобиля           11.026860   \n",
       "2               покупка жилья           15.406637   \n",
       "3  дополнительное образование           11.300677   \n",
       "4             сыграть свадьбу          932.235814   \n",
       "\n",
       "                          purpose_lemma purpose_group days_employed_group  \\\n",
       "0               [покупка,  , жилье, \\n]  недвижимость           11-50 лет   \n",
       "1     [приобретение,  , автомобиль, \\n]    автомобиль           11-50 лет   \n",
       "2               [покупка,  , жилье, \\n]  недвижимость           11-50 лет   \n",
       "3  [дополнительный,  , образование, \\n]   образование           11-50 лет   \n",
       "4             [сыграть,  , свадьба, \\n]       свадьба        более 50 лет   \n",
       "\n",
       "  dob_years_group children_group            total_income_group  \n",
       "0       30-45 лет      есть дети  от 150 000 до 300 000 рублей  \n",
       "1       30-45 лет      есть дети   от 50 000 до 150 000 рублей  \n",
       "2       30-45 лет      нет детей   от 50 000 до 150 000 рублей  \n",
       "3       30-45 лет      есть дети  от 150 000 до 300 000 рублей  \n",
       "4       45-65 лет      нет детей  от 150 000 до 300 000 рублей  "
      ]
     },
     "execution_count": 706,
     "metadata": {},
     "output_type": "execute_result"
    }
   ],
   "source": [
    "# функция категоризации по стажу\n",
    "def do_group_for_days_employed(days):\n",
    "    if days/365 <= 3:\n",
    "        return 'до 3 лет'\n",
    "    if 3< days/365 <= 5:\n",
    "        return '3-5 лет'\n",
    "    if 5 < days/365 <= 10:\n",
    "        return '6-10 лет'\n",
    "    elif 10 < days/365 <= 50:\n",
    "        return '11-50 лет'\n",
    "    elif days/365 > 50:\n",
    "        return 'более 50 лет'\n",
    "    return 'стаж неизвестен'\n",
    "# применение функции do_group_for_days_employed ко всему столбцу 'days_employed'\n",
    "data['days_employed_group'] = data['days_employed'].apply(do_group_for_days_employed)\n",
    "data.head()"
   ]
  },
  {
   "cell_type": "code",
   "execution_count": 707,
   "metadata": {},
   "outputs": [
    {
     "data": {
      "text/plain": [
       "0"
      ]
     },
     "execution_count": 707,
     "metadata": {},
     "output_type": "execute_result"
    }
   ],
   "source": [
    "# проверка, что всем данным присвоены категории для стажа\n",
    "data[data['days_employed_group'] == 'стаж неизвестен']['days_employed_group'].count()"
   ]
  },
  {
   "cell_type": "code",
   "execution_count": 708,
   "metadata": {},
   "outputs": [
    {
     "data": {
      "text/plain": [
       "до 3 лет        5666\n",
       "3-5 лет         4429\n",
       "6-10 лет        4223\n",
       "более 50 лет    3793\n",
       "11-50 лет       3117\n",
       "Name: days_employed_group, dtype: int64"
      ]
     },
     "execution_count": 708,
     "metadata": {},
     "output_type": "execute_result"
    }
   ],
   "source": [
    "# полученное распеределение по группам стажа\n",
    "data['days_employed_group'].value_counts()"
   ]
  },
  {
   "cell_type": "markdown",
   "metadata": {},
   "source": [
    "При такой категоризации получаем примерно одинаковое количество данных по группам стажа для сравнения."
   ]
  },
  {
   "cell_type": "markdown",
   "metadata": {},
   "source": [
    "#### Разобьем на классы по возрасту 'dob_years':"
   ]
  },
  {
   "cell_type": "markdown",
   "metadata": {},
   "source": [
    "* до 35 лет\n",
    "* 35-45 лет\n",
    "* 45-55 лет\n",
    "* более 55 лет"
   ]
  },
  {
   "cell_type": "code",
   "execution_count": 712,
   "metadata": {},
   "outputs": [
    {
     "data": {
      "text/html": [
       "<div>\n",
       "<style scoped>\n",
       "    .dataframe tbody tr th:only-of-type {\n",
       "        vertical-align: middle;\n",
       "    }\n",
       "\n",
       "    .dataframe tbody tr th {\n",
       "        vertical-align: top;\n",
       "    }\n",
       "\n",
       "    .dataframe thead th {\n",
       "        text-align: right;\n",
       "    }\n",
       "</style>\n",
       "<table border=\"1\" class=\"dataframe\">\n",
       "  <thead>\n",
       "    <tr style=\"text-align: right;\">\n",
       "      <th></th>\n",
       "      <th>children</th>\n",
       "      <th>days_employed</th>\n",
       "      <th>dob_years</th>\n",
       "      <th>education</th>\n",
       "      <th>education_id</th>\n",
       "      <th>family_status</th>\n",
       "      <th>family_status_id</th>\n",
       "      <th>gender</th>\n",
       "      <th>income_type</th>\n",
       "      <th>debt</th>\n",
       "      <th>total_income</th>\n",
       "      <th>purpose</th>\n",
       "      <th>days_employed_year</th>\n",
       "      <th>purpose_lemma</th>\n",
       "      <th>purpose_group</th>\n",
       "      <th>days_employed_group</th>\n",
       "      <th>dob_years_group</th>\n",
       "      <th>children_group</th>\n",
       "      <th>total_income_group</th>\n",
       "    </tr>\n",
       "  </thead>\n",
       "  <tbody>\n",
       "    <tr>\n",
       "      <td>0</td>\n",
       "      <td>1</td>\n",
       "      <td>8437</td>\n",
       "      <td>42</td>\n",
       "      <td>высшее</td>\n",
       "      <td>0</td>\n",
       "      <td>женат / замужем</td>\n",
       "      <td>0</td>\n",
       "      <td>F</td>\n",
       "      <td>сотрудник</td>\n",
       "      <td>False</td>\n",
       "      <td>253875</td>\n",
       "      <td>покупка жилья</td>\n",
       "      <td>23.116912</td>\n",
       "      <td>[покупка,  , жилье, \\n]</td>\n",
       "      <td>недвижимость</td>\n",
       "      <td>11-50 лет</td>\n",
       "      <td>35-45 лет</td>\n",
       "      <td>есть дети</td>\n",
       "      <td>от 150 000 до 300 000 рублей</td>\n",
       "    </tr>\n",
       "    <tr>\n",
       "      <td>1</td>\n",
       "      <td>1</td>\n",
       "      <td>4024</td>\n",
       "      <td>36</td>\n",
       "      <td>среднее</td>\n",
       "      <td>1</td>\n",
       "      <td>женат / замужем</td>\n",
       "      <td>0</td>\n",
       "      <td>F</td>\n",
       "      <td>сотрудник</td>\n",
       "      <td>False</td>\n",
       "      <td>112080</td>\n",
       "      <td>приобретение автомобиля</td>\n",
       "      <td>11.026860</td>\n",
       "      <td>[приобретение,  , автомобиль, \\n]</td>\n",
       "      <td>автомобиль</td>\n",
       "      <td>11-50 лет</td>\n",
       "      <td>35-45 лет</td>\n",
       "      <td>есть дети</td>\n",
       "      <td>от 50 000 до 150 000 рублей</td>\n",
       "    </tr>\n",
       "    <tr>\n",
       "      <td>2</td>\n",
       "      <td>0</td>\n",
       "      <td>5623</td>\n",
       "      <td>33</td>\n",
       "      <td>среднее</td>\n",
       "      <td>1</td>\n",
       "      <td>женат / замужем</td>\n",
       "      <td>0</td>\n",
       "      <td>M</td>\n",
       "      <td>сотрудник</td>\n",
       "      <td>False</td>\n",
       "      <td>145885</td>\n",
       "      <td>покупка жилья</td>\n",
       "      <td>15.406637</td>\n",
       "      <td>[покупка,  , жилье, \\n]</td>\n",
       "      <td>недвижимость</td>\n",
       "      <td>11-50 лет</td>\n",
       "      <td>до 35 лет</td>\n",
       "      <td>нет детей</td>\n",
       "      <td>от 50 000 до 150 000 рублей</td>\n",
       "    </tr>\n",
       "    <tr>\n",
       "      <td>3</td>\n",
       "      <td>3</td>\n",
       "      <td>4124</td>\n",
       "      <td>32</td>\n",
       "      <td>среднее</td>\n",
       "      <td>1</td>\n",
       "      <td>женат / замужем</td>\n",
       "      <td>0</td>\n",
       "      <td>M</td>\n",
       "      <td>сотрудник</td>\n",
       "      <td>False</td>\n",
       "      <td>267628</td>\n",
       "      <td>дополнительное образование</td>\n",
       "      <td>11.300677</td>\n",
       "      <td>[дополнительный,  , образование, \\n]</td>\n",
       "      <td>образование</td>\n",
       "      <td>11-50 лет</td>\n",
       "      <td>до 35 лет</td>\n",
       "      <td>есть дети</td>\n",
       "      <td>от 150 000 до 300 000 рублей</td>\n",
       "    </tr>\n",
       "    <tr>\n",
       "      <td>4</td>\n",
       "      <td>0</td>\n",
       "      <td>340266</td>\n",
       "      <td>53</td>\n",
       "      <td>среднее</td>\n",
       "      <td>1</td>\n",
       "      <td>гражданский брак</td>\n",
       "      <td>1</td>\n",
       "      <td>F</td>\n",
       "      <td>пенсионер</td>\n",
       "      <td>False</td>\n",
       "      <td>158616</td>\n",
       "      <td>сыграть свадьбу</td>\n",
       "      <td>932.235814</td>\n",
       "      <td>[сыграть,  , свадьба, \\n]</td>\n",
       "      <td>свадьба</td>\n",
       "      <td>более 50 лет</td>\n",
       "      <td>45-55 лет</td>\n",
       "      <td>нет детей</td>\n",
       "      <td>от 150 000 до 300 000 рублей</td>\n",
       "    </tr>\n",
       "  </tbody>\n",
       "</table>\n",
       "</div>"
      ],
      "text/plain": [
       "   children  days_employed  dob_years education  education_id  \\\n",
       "0         1           8437         42    высшее             0   \n",
       "1         1           4024         36   среднее             1   \n",
       "2         0           5623         33   среднее             1   \n",
       "3         3           4124         32   среднее             1   \n",
       "4         0         340266         53   среднее             1   \n",
       "\n",
       "      family_status  family_status_id gender income_type   debt  total_income  \\\n",
       "0   женат / замужем                 0      F   сотрудник  False        253875   \n",
       "1   женат / замужем                 0      F   сотрудник  False        112080   \n",
       "2   женат / замужем                 0      M   сотрудник  False        145885   \n",
       "3   женат / замужем                 0      M   сотрудник  False        267628   \n",
       "4  гражданский брак                 1      F   пенсионер  False        158616   \n",
       "\n",
       "                      purpose  days_employed_year  \\\n",
       "0               покупка жилья           23.116912   \n",
       "1     приобретение автомобиля           11.026860   \n",
       "2               покупка жилья           15.406637   \n",
       "3  дополнительное образование           11.300677   \n",
       "4             сыграть свадьбу          932.235814   \n",
       "\n",
       "                          purpose_lemma purpose_group days_employed_group  \\\n",
       "0               [покупка,  , жилье, \\n]  недвижимость           11-50 лет   \n",
       "1     [приобретение,  , автомобиль, \\n]    автомобиль           11-50 лет   \n",
       "2               [покупка,  , жилье, \\n]  недвижимость           11-50 лет   \n",
       "3  [дополнительный,  , образование, \\n]   образование           11-50 лет   \n",
       "4             [сыграть,  , свадьба, \\n]       свадьба        более 50 лет   \n",
       "\n",
       "  dob_years_group children_group            total_income_group  \n",
       "0       35-45 лет      есть дети  от 150 000 до 300 000 рублей  \n",
       "1       35-45 лет      есть дети   от 50 000 до 150 000 рублей  \n",
       "2       до 35 лет      нет детей   от 50 000 до 150 000 рублей  \n",
       "3       до 35 лет      есть дети  от 150 000 до 300 000 рублей  \n",
       "4       45-55 лет      нет детей  от 150 000 до 300 000 рублей  "
      ]
     },
     "execution_count": 712,
     "metadata": {},
     "output_type": "execute_result"
    }
   ],
   "source": [
    "# функция категоризации по возрасту\n",
    "def do_group_for_dob_years(years):\n",
    "    if years <= 35:\n",
    "        return 'до 35 лет'\n",
    "    elif 35 < years <= 45:\n",
    "        return '35-45 лет'\n",
    "    elif 45 < years <= 55:\n",
    "        return '45-55 лет'\n",
    "    elif years > 55:\n",
    "        return 'более 55 лет'\n",
    "    return 'возраст неизвестен'\n",
    "# применение функции do_group_for_dob_years ко всему столбцу 'dob_years\n",
    "data['dob_years_group'] = data['dob_years'].apply(do_group_for_dob_years)\n",
    "data.head()"
   ]
  },
  {
   "cell_type": "code",
   "execution_count": 713,
   "metadata": {},
   "outputs": [
    {
     "data": {
      "text/plain": [
       "0"
      ]
     },
     "execution_count": 713,
     "metadata": {},
     "output_type": "execute_result"
    }
   ],
   "source": [
    "# проверка, что всем данным присвоены категории для возраста\n",
    "data[data['dob_years_group'] == 'стаж неизвестен']['dob_years_group'].count()"
   ]
  },
  {
   "cell_type": "code",
   "execution_count": 714,
   "metadata": {},
   "outputs": [
    {
     "data": {
      "text/plain": [
       "до 35 лет       6542\n",
       "35-45 лет       5582\n",
       "45-55 лет       4788\n",
       "более 55 лет    4316\n",
       "Name: dob_years_group, dtype: int64"
      ]
     },
     "execution_count": 714,
     "metadata": {},
     "output_type": "execute_result"
    }
   ],
   "source": [
    "# полученное распеределение по возрастным группам\n",
    "data['dob_years_group'].value_counts()"
   ]
  },
  {
   "cell_type": "markdown",
   "metadata": {},
   "source": [
    "Также получили примерно одинаковое количество данных в категориях по возрасту."
   ]
  },
  {
   "cell_type": "markdown",
   "metadata": {},
   "source": [
    "#### Разобьем на классы по количеству детей 'children':\n",
    "* нет детей\n",
    "* есть дети (>= 1 ребенка)"
   ]
  },
  {
   "cell_type": "code",
   "execution_count": 721,
   "metadata": {
    "scrolled": true
   },
   "outputs": [
    {
     "data": {
      "text/html": [
       "<div>\n",
       "<style scoped>\n",
       "    .dataframe tbody tr th:only-of-type {\n",
       "        vertical-align: middle;\n",
       "    }\n",
       "\n",
       "    .dataframe tbody tr th {\n",
       "        vertical-align: top;\n",
       "    }\n",
       "\n",
       "    .dataframe thead th {\n",
       "        text-align: right;\n",
       "    }\n",
       "</style>\n",
       "<table border=\"1\" class=\"dataframe\">\n",
       "  <thead>\n",
       "    <tr style=\"text-align: right;\">\n",
       "      <th></th>\n",
       "      <th>children</th>\n",
       "      <th>days_employed</th>\n",
       "      <th>dob_years</th>\n",
       "      <th>education</th>\n",
       "      <th>education_id</th>\n",
       "      <th>family_status</th>\n",
       "      <th>family_status_id</th>\n",
       "      <th>gender</th>\n",
       "      <th>income_type</th>\n",
       "      <th>debt</th>\n",
       "      <th>total_income</th>\n",
       "      <th>purpose</th>\n",
       "      <th>days_employed_year</th>\n",
       "      <th>purpose_lemma</th>\n",
       "      <th>purpose_group</th>\n",
       "      <th>days_employed_group</th>\n",
       "      <th>dob_years_group</th>\n",
       "      <th>children_group</th>\n",
       "      <th>total_income_group</th>\n",
       "    </tr>\n",
       "  </thead>\n",
       "  <tbody>\n",
       "    <tr>\n",
       "      <td>0</td>\n",
       "      <td>1</td>\n",
       "      <td>8437</td>\n",
       "      <td>42</td>\n",
       "      <td>высшее</td>\n",
       "      <td>0</td>\n",
       "      <td>женат / замужем</td>\n",
       "      <td>0</td>\n",
       "      <td>F</td>\n",
       "      <td>сотрудник</td>\n",
       "      <td>False</td>\n",
       "      <td>253875</td>\n",
       "      <td>покупка жилья</td>\n",
       "      <td>23.116912</td>\n",
       "      <td>[покупка,  , жилье, \\n]</td>\n",
       "      <td>недвижимость</td>\n",
       "      <td>11-50 лет</td>\n",
       "      <td>35-45 лет</td>\n",
       "      <td>есть дети</td>\n",
       "      <td>от 150 000 до 300 000 рублей</td>\n",
       "    </tr>\n",
       "    <tr>\n",
       "      <td>1</td>\n",
       "      <td>1</td>\n",
       "      <td>4024</td>\n",
       "      <td>36</td>\n",
       "      <td>среднее</td>\n",
       "      <td>1</td>\n",
       "      <td>женат / замужем</td>\n",
       "      <td>0</td>\n",
       "      <td>F</td>\n",
       "      <td>сотрудник</td>\n",
       "      <td>False</td>\n",
       "      <td>112080</td>\n",
       "      <td>приобретение автомобиля</td>\n",
       "      <td>11.026860</td>\n",
       "      <td>[приобретение,  , автомобиль, \\n]</td>\n",
       "      <td>автомобиль</td>\n",
       "      <td>11-50 лет</td>\n",
       "      <td>35-45 лет</td>\n",
       "      <td>есть дети</td>\n",
       "      <td>от 50 000 до 150 000 рублей</td>\n",
       "    </tr>\n",
       "    <tr>\n",
       "      <td>2</td>\n",
       "      <td>0</td>\n",
       "      <td>5623</td>\n",
       "      <td>33</td>\n",
       "      <td>среднее</td>\n",
       "      <td>1</td>\n",
       "      <td>женат / замужем</td>\n",
       "      <td>0</td>\n",
       "      <td>M</td>\n",
       "      <td>сотрудник</td>\n",
       "      <td>False</td>\n",
       "      <td>145885</td>\n",
       "      <td>покупка жилья</td>\n",
       "      <td>15.406637</td>\n",
       "      <td>[покупка,  , жилье, \\n]</td>\n",
       "      <td>недвижимость</td>\n",
       "      <td>11-50 лет</td>\n",
       "      <td>до 35 лет</td>\n",
       "      <td>нет детей</td>\n",
       "      <td>от 50 000 до 150 000 рублей</td>\n",
       "    </tr>\n",
       "    <tr>\n",
       "      <td>3</td>\n",
       "      <td>3</td>\n",
       "      <td>4124</td>\n",
       "      <td>32</td>\n",
       "      <td>среднее</td>\n",
       "      <td>1</td>\n",
       "      <td>женат / замужем</td>\n",
       "      <td>0</td>\n",
       "      <td>M</td>\n",
       "      <td>сотрудник</td>\n",
       "      <td>False</td>\n",
       "      <td>267628</td>\n",
       "      <td>дополнительное образование</td>\n",
       "      <td>11.300677</td>\n",
       "      <td>[дополнительный,  , образование, \\n]</td>\n",
       "      <td>образование</td>\n",
       "      <td>11-50 лет</td>\n",
       "      <td>до 35 лет</td>\n",
       "      <td>есть дети</td>\n",
       "      <td>от 150 000 до 300 000 рублей</td>\n",
       "    </tr>\n",
       "    <tr>\n",
       "      <td>4</td>\n",
       "      <td>0</td>\n",
       "      <td>340266</td>\n",
       "      <td>53</td>\n",
       "      <td>среднее</td>\n",
       "      <td>1</td>\n",
       "      <td>гражданский брак</td>\n",
       "      <td>1</td>\n",
       "      <td>F</td>\n",
       "      <td>пенсионер</td>\n",
       "      <td>False</td>\n",
       "      <td>158616</td>\n",
       "      <td>сыграть свадьбу</td>\n",
       "      <td>932.235814</td>\n",
       "      <td>[сыграть,  , свадьба, \\n]</td>\n",
       "      <td>свадьба</td>\n",
       "      <td>более 50 лет</td>\n",
       "      <td>45-55 лет</td>\n",
       "      <td>нет детей</td>\n",
       "      <td>от 150 000 до 300 000 рублей</td>\n",
       "    </tr>\n",
       "  </tbody>\n",
       "</table>\n",
       "</div>"
      ],
      "text/plain": [
       "   children  days_employed  dob_years education  education_id  \\\n",
       "0         1           8437         42    высшее             0   \n",
       "1         1           4024         36   среднее             1   \n",
       "2         0           5623         33   среднее             1   \n",
       "3         3           4124         32   среднее             1   \n",
       "4         0         340266         53   среднее             1   \n",
       "\n",
       "      family_status  family_status_id gender income_type   debt  total_income  \\\n",
       "0   женат / замужем                 0      F   сотрудник  False        253875   \n",
       "1   женат / замужем                 0      F   сотрудник  False        112080   \n",
       "2   женат / замужем                 0      M   сотрудник  False        145885   \n",
       "3   женат / замужем                 0      M   сотрудник  False        267628   \n",
       "4  гражданский брак                 1      F   пенсионер  False        158616   \n",
       "\n",
       "                      purpose  days_employed_year  \\\n",
       "0               покупка жилья           23.116912   \n",
       "1     приобретение автомобиля           11.026860   \n",
       "2               покупка жилья           15.406637   \n",
       "3  дополнительное образование           11.300677   \n",
       "4             сыграть свадьбу          932.235814   \n",
       "\n",
       "                          purpose_lemma purpose_group days_employed_group  \\\n",
       "0               [покупка,  , жилье, \\n]  недвижимость           11-50 лет   \n",
       "1     [приобретение,  , автомобиль, \\n]    автомобиль           11-50 лет   \n",
       "2               [покупка,  , жилье, \\n]  недвижимость           11-50 лет   \n",
       "3  [дополнительный,  , образование, \\n]   образование           11-50 лет   \n",
       "4             [сыграть,  , свадьба, \\n]       свадьба        более 50 лет   \n",
       "\n",
       "  dob_years_group children_group            total_income_group  \n",
       "0       35-45 лет      есть дети  от 150 000 до 300 000 рублей  \n",
       "1       35-45 лет      есть дети   от 50 000 до 150 000 рублей  \n",
       "2       до 35 лет      нет детей   от 50 000 до 150 000 рублей  \n",
       "3       до 35 лет      есть дети  от 150 000 до 300 000 рублей  \n",
       "4       45-55 лет      нет детей  от 150 000 до 300 000 рублей  "
      ]
     },
     "execution_count": 721,
     "metadata": {},
     "output_type": "execute_result"
    }
   ],
   "source": [
    "# функция категоризации по количеству детей\n",
    "def do_group_for_children(children):\n",
    "    if children <= 0:\n",
    "        return 'нет детей'\n",
    "    elif children >= 1:\n",
    "        return 'есть дети'\n",
    "    return 'неизвестно количество детей'\n",
    "# применение функции do_group_for_children ко всему столбцу 'children'\n",
    "data['children_group'] = data['children'].apply(do_group_for_children)\n",
    "data.head()"
   ]
  },
  {
   "cell_type": "code",
   "execution_count": 722,
   "metadata": {},
   "outputs": [
    {
     "data": {
      "text/plain": [
       "0"
      ]
     },
     "execution_count": 722,
     "metadata": {},
     "output_type": "execute_result"
    }
   ],
   "source": [
    "# проверка, что всем данным присвоены категории для количества детей\n",
    "data[data['children_group'] == 'неизвестно количество детей']['children_group'].count()"
   ]
  },
  {
   "cell_type": "code",
   "execution_count": 723,
   "metadata": {},
   "outputs": [
    {
     "data": {
      "text/plain": [
       "нет детей    14020\n",
       "есть дети     7208\n",
       "Name: children_group, dtype: int64"
      ]
     },
     "execution_count": 723,
     "metadata": {},
     "output_type": "execute_result"
    }
   ],
   "source": [
    "# полученное распеределение по группам наличия детей\n",
    "data['children_group'].value_counts()"
   ]
  },
  {
   "cell_type": "markdown",
   "metadata": {},
   "source": [
    "В данном случае разбить на более равные доли не получилось, так как количество клиентов без детей сильно превалирует над количеством клиентов с детьми. Поэтому будем работать с такими категориями."
   ]
  },
  {
   "cell_type": "markdown",
   "metadata": {},
   "source": [
    "#### Разобьем на классы по заработку: \n",
    "* <= 100 000\n",
    "* 100 000 < total_income <= 125 000\n",
    "* 125 000 < total_income <= 150 000\n",
    "* 150 000 < total_income <= 200 000\n",
    "* более 200 000"
   ]
  },
  {
   "cell_type": "code",
   "execution_count": 739,
   "metadata": {
    "scrolled": true
   },
   "outputs": [
    {
     "data": {
      "text/html": [
       "<div>\n",
       "<style scoped>\n",
       "    .dataframe tbody tr th:only-of-type {\n",
       "        vertical-align: middle;\n",
       "    }\n",
       "\n",
       "    .dataframe tbody tr th {\n",
       "        vertical-align: top;\n",
       "    }\n",
       "\n",
       "    .dataframe thead th {\n",
       "        text-align: right;\n",
       "    }\n",
       "</style>\n",
       "<table border=\"1\" class=\"dataframe\">\n",
       "  <thead>\n",
       "    <tr style=\"text-align: right;\">\n",
       "      <th></th>\n",
       "      <th>children</th>\n",
       "      <th>days_employed</th>\n",
       "      <th>dob_years</th>\n",
       "      <th>education</th>\n",
       "      <th>education_id</th>\n",
       "      <th>family_status</th>\n",
       "      <th>family_status_id</th>\n",
       "      <th>gender</th>\n",
       "      <th>income_type</th>\n",
       "      <th>debt</th>\n",
       "      <th>total_income</th>\n",
       "      <th>purpose</th>\n",
       "      <th>days_employed_year</th>\n",
       "      <th>purpose_lemma</th>\n",
       "      <th>purpose_group</th>\n",
       "      <th>days_employed_group</th>\n",
       "      <th>dob_years_group</th>\n",
       "      <th>children_group</th>\n",
       "      <th>total_income_group</th>\n",
       "    </tr>\n",
       "  </thead>\n",
       "  <tbody>\n",
       "    <tr>\n",
       "      <td>0</td>\n",
       "      <td>1</td>\n",
       "      <td>8437</td>\n",
       "      <td>42</td>\n",
       "      <td>высшее</td>\n",
       "      <td>0</td>\n",
       "      <td>женат / замужем</td>\n",
       "      <td>0</td>\n",
       "      <td>F</td>\n",
       "      <td>сотрудник</td>\n",
       "      <td>False</td>\n",
       "      <td>253875</td>\n",
       "      <td>покупка жилья</td>\n",
       "      <td>23.116912</td>\n",
       "      <td>[покупка,  , жилье, \\n]</td>\n",
       "      <td>недвижимость</td>\n",
       "      <td>11-50 лет</td>\n",
       "      <td>35-45 лет</td>\n",
       "      <td>есть дети</td>\n",
       "      <td>от 200 000 рублей</td>\n",
       "    </tr>\n",
       "    <tr>\n",
       "      <td>1</td>\n",
       "      <td>1</td>\n",
       "      <td>4024</td>\n",
       "      <td>36</td>\n",
       "      <td>среднее</td>\n",
       "      <td>1</td>\n",
       "      <td>женат / замужем</td>\n",
       "      <td>0</td>\n",
       "      <td>F</td>\n",
       "      <td>сотрудник</td>\n",
       "      <td>False</td>\n",
       "      <td>112080</td>\n",
       "      <td>приобретение автомобиля</td>\n",
       "      <td>11.026860</td>\n",
       "      <td>[приобретение,  , автомобиль, \\n]</td>\n",
       "      <td>автомобиль</td>\n",
       "      <td>11-50 лет</td>\n",
       "      <td>35-45 лет</td>\n",
       "      <td>есть дети</td>\n",
       "      <td>от 100 000 до 125 000 рублей</td>\n",
       "    </tr>\n",
       "    <tr>\n",
       "      <td>2</td>\n",
       "      <td>0</td>\n",
       "      <td>5623</td>\n",
       "      <td>33</td>\n",
       "      <td>среднее</td>\n",
       "      <td>1</td>\n",
       "      <td>женат / замужем</td>\n",
       "      <td>0</td>\n",
       "      <td>M</td>\n",
       "      <td>сотрудник</td>\n",
       "      <td>False</td>\n",
       "      <td>145885</td>\n",
       "      <td>покупка жилья</td>\n",
       "      <td>15.406637</td>\n",
       "      <td>[покупка,  , жилье, \\n]</td>\n",
       "      <td>недвижимость</td>\n",
       "      <td>11-50 лет</td>\n",
       "      <td>до 35 лет</td>\n",
       "      <td>нет детей</td>\n",
       "      <td>от 125 000 до 150 000 рублей</td>\n",
       "    </tr>\n",
       "    <tr>\n",
       "      <td>3</td>\n",
       "      <td>3</td>\n",
       "      <td>4124</td>\n",
       "      <td>32</td>\n",
       "      <td>среднее</td>\n",
       "      <td>1</td>\n",
       "      <td>женат / замужем</td>\n",
       "      <td>0</td>\n",
       "      <td>M</td>\n",
       "      <td>сотрудник</td>\n",
       "      <td>False</td>\n",
       "      <td>267628</td>\n",
       "      <td>дополнительное образование</td>\n",
       "      <td>11.300677</td>\n",
       "      <td>[дополнительный,  , образование, \\n]</td>\n",
       "      <td>образование</td>\n",
       "      <td>11-50 лет</td>\n",
       "      <td>до 35 лет</td>\n",
       "      <td>есть дети</td>\n",
       "      <td>от 200 000 рублей</td>\n",
       "    </tr>\n",
       "    <tr>\n",
       "      <td>4</td>\n",
       "      <td>0</td>\n",
       "      <td>340266</td>\n",
       "      <td>53</td>\n",
       "      <td>среднее</td>\n",
       "      <td>1</td>\n",
       "      <td>гражданский брак</td>\n",
       "      <td>1</td>\n",
       "      <td>F</td>\n",
       "      <td>пенсионер</td>\n",
       "      <td>False</td>\n",
       "      <td>158616</td>\n",
       "      <td>сыграть свадьбу</td>\n",
       "      <td>932.235814</td>\n",
       "      <td>[сыграть,  , свадьба, \\n]</td>\n",
       "      <td>свадьба</td>\n",
       "      <td>более 50 лет</td>\n",
       "      <td>45-55 лет</td>\n",
       "      <td>нет детей</td>\n",
       "      <td>от 150 000 до 200 000 рублей</td>\n",
       "    </tr>\n",
       "  </tbody>\n",
       "</table>\n",
       "</div>"
      ],
      "text/plain": [
       "   children  days_employed  dob_years education  education_id  \\\n",
       "0         1           8437         42    высшее             0   \n",
       "1         1           4024         36   среднее             1   \n",
       "2         0           5623         33   среднее             1   \n",
       "3         3           4124         32   среднее             1   \n",
       "4         0         340266         53   среднее             1   \n",
       "\n",
       "      family_status  family_status_id gender income_type   debt  total_income  \\\n",
       "0   женат / замужем                 0      F   сотрудник  False        253875   \n",
       "1   женат / замужем                 0      F   сотрудник  False        112080   \n",
       "2   женат / замужем                 0      M   сотрудник  False        145885   \n",
       "3   женат / замужем                 0      M   сотрудник  False        267628   \n",
       "4  гражданский брак                 1      F   пенсионер  False        158616   \n",
       "\n",
       "                      purpose  days_employed_year  \\\n",
       "0               покупка жилья           23.116912   \n",
       "1     приобретение автомобиля           11.026860   \n",
       "2               покупка жилья           15.406637   \n",
       "3  дополнительное образование           11.300677   \n",
       "4             сыграть свадьбу          932.235814   \n",
       "\n",
       "                          purpose_lemma purpose_group days_employed_group  \\\n",
       "0               [покупка,  , жилье, \\n]  недвижимость           11-50 лет   \n",
       "1     [приобретение,  , автомобиль, \\n]    автомобиль           11-50 лет   \n",
       "2               [покупка,  , жилье, \\n]  недвижимость           11-50 лет   \n",
       "3  [дополнительный,  , образование, \\n]   образование           11-50 лет   \n",
       "4             [сыграть,  , свадьба, \\n]       свадьба        более 50 лет   \n",
       "\n",
       "  dob_years_group children_group            total_income_group  \n",
       "0       35-45 лет      есть дети             от 200 000 рублей  \n",
       "1       35-45 лет      есть дети  от 100 000 до 125 000 рублей  \n",
       "2       до 35 лет      нет детей  от 125 000 до 150 000 рублей  \n",
       "3       до 35 лет      есть дети             от 200 000 рублей  \n",
       "4       45-55 лет      нет детей  от 150 000 до 200 000 рублей  "
      ]
     },
     "execution_count": 739,
     "metadata": {},
     "output_type": "execute_result"
    }
   ],
   "source": [
    "# функция категоризации по заработку\n",
    "def do_group_for_total_income(income):\n",
    "    if income <= 100000:\n",
    "        return 'до 100 000 рублей'\n",
    "    elif 100000 < income <= 125000:\n",
    "        return 'от 100 000 до 125 000 рублей'\n",
    "    elif 125000 < income <= 150000:\n",
    "        return 'от 125 000 до 150 000 рублей'\n",
    "    elif 150000 < income <= 200000:\n",
    "        return 'от 150 000 до 200 000 рублей'\n",
    "    elif income > 200000:\n",
    "        return 'от 200 000 рублей'\n",
    "    return 'заработок неизвестен'\n",
    "# применение функции do_group_for_total_income ко всему столбцу 'total_income'\n",
    "data['total_income_group'] = data['total_income'].apply(do_group_for_total_income)\n",
    "data.head()"
   ]
  },
  {
   "cell_type": "code",
   "execution_count": 740,
   "metadata": {},
   "outputs": [
    {
     "data": {
      "text/plain": [
       "от 200 000 рублей               5010\n",
       "от 150 000 до 200 000 рублей    4718\n",
       "до 100 000 рублей               4420\n",
       "от 125 000 до 150 000 рублей    3825\n",
       "от 100 000 до 125 000 рублей    3255\n",
       "Name: total_income_group, dtype: int64"
      ]
     },
     "execution_count": 740,
     "metadata": {},
     "output_type": "execute_result"
    }
   ],
   "source": [
    "# полученное распеределение по группам заработка\n",
    "data['total_income_group'].value_counts()"
   ]
  },
  {
   "cell_type": "markdown",
   "metadata": {},
   "source": [
    "Получили примерно одинаковое количество данных в категориях по группам заработка."
   ]
  },
  {
   "cell_type": "markdown",
   "metadata": {},
   "source": [
    "### Вывод"
   ]
  },
  {
   "cell_type": "markdown",
   "metadata": {},
   "source": [
    "Категоризировали данные по следующим данным:\n",
    "* по количеству детей \n",
    "* по стажу работы\n",
    "* по возрасту \n",
    "* по уровню зарплаты\n",
    "\n",
    "Теперь можно перейти к анализу данных и поиску ответов на заданные вопросы."
   ]
  },
  {
   "cell_type": "markdown",
   "metadata": {},
   "source": [
    "# Шаг 3. Ответы на вопросы  <a id=\"step3\"></a>"
   ]
  },
  {
   "cell_type": "markdown",
   "metadata": {},
   "source": [
    "- Есть ли зависимость между наличием детей и возвратом кредита в срок?"
   ]
  },
  {
   "cell_type": "code",
   "execution_count": 741,
   "metadata": {},
   "outputs": [
    {
     "data": {
      "text/plain": [
       "9.225860155382907"
      ]
     },
     "execution_count": 741,
     "metadata": {},
     "output_type": "execute_result"
    }
   ],
   "source": [
    "# расчет процента возвратов по кредитам у клиентов с детьми\n",
    "children_debit = data[data['children_group'] == 'есть дети']['debt'].sum() * 100/ data[data['children_group'] == 'есть дети'].shape[0]\n",
    "children_debit"
   ]
  },
  {
   "cell_type": "code",
   "execution_count": 742,
   "metadata": {},
   "outputs": [
    {
     "data": {
      "text/plain": [
       "7.546362339514979"
      ]
     },
     "execution_count": 742,
     "metadata": {},
     "output_type": "execute_result"
    }
   ],
   "source": [
    "# расчет процента возвратов по кредитам у клиентов без детей\n",
    "free_children_debit = data[data['children_group'] == 'нет детей']['debt'].sum() * 100/ data[data['children_group'] == 'нет детей'].shape[0]\n",
    "free_children_debit"
   ]
  },
  {
   "cell_type": "markdown",
   "metadata": {},
   "source": [
    "### Вывод"
   ]
  },
  {
   "cell_type": "markdown",
   "metadata": {},
   "source": [
    "Наличие детей ухудшает платежеспособность клиента. Клиенты без детей имеют меньше задолженностей по кредитам. "
   ]
  },
  {
   "cell_type": "code",
   "execution_count": 743,
   "metadata": {},
   "outputs": [],
   "source": [
    "# функция создания вспомогательной таблицы для вычисления зависимости между разными параметрами\n",
    "# data - dataframe\n",
    "# index - столбец, по которому происходит группировка данных \n",
    "# colums - столбец по значениям которого будет происходить группировка\n",
    "# values - значения, по которым мы хотим увидеть сводную таблицу\n",
    "def create_data_pivot(data,index,colums,values):\n",
    "    # создается таблица data_pivot\n",
    "    data_pivot = data.pivot_table(index = index, columns = colums, values = values, aggfunc = 'count')\n",
    "    # расчет процента \n",
    "    data_pivot['%'] = (data_pivot[1] / data_pivot[0]) * 100\n",
    "    # расчет количества клиентов каждой категории\n",
    "    data_pivot['count_client'] = data_pivot[1] + data_pivot[0]\n",
    "    return data_pivot"
   ]
  },
  {
   "cell_type": "markdown",
   "metadata": {},
   "source": [
    "- Есть ли зависимость между семейным положением и возвратом кредита в срок?"
   ]
  },
  {
   "cell_type": "code",
   "execution_count": 744,
   "metadata": {},
   "outputs": [
    {
     "data": {
      "text/html": [
       "<div>\n",
       "<style scoped>\n",
       "    .dataframe tbody tr th:only-of-type {\n",
       "        vertical-align: middle;\n",
       "    }\n",
       "\n",
       "    .dataframe tbody tr th {\n",
       "        vertical-align: top;\n",
       "    }\n",
       "\n",
       "    .dataframe thead th {\n",
       "        text-align: right;\n",
       "    }\n",
       "</style>\n",
       "<table border=\"1\" class=\"dataframe\">\n",
       "  <thead>\n",
       "    <tr style=\"text-align: right;\">\n",
       "      <th>debt</th>\n",
       "      <th>False</th>\n",
       "      <th>True</th>\n",
       "      <th>%</th>\n",
       "      <th>count_client</th>\n",
       "    </tr>\n",
       "    <tr>\n",
       "      <th>family_status</th>\n",
       "      <th></th>\n",
       "      <th></th>\n",
       "      <th></th>\n",
       "      <th></th>\n",
       "    </tr>\n",
       "  </thead>\n",
       "  <tbody>\n",
       "    <tr>\n",
       "      <td>в разводе</td>\n",
       "      <td>1095</td>\n",
       "      <td>84</td>\n",
       "      <td>7.671233</td>\n",
       "      <td>1179</td>\n",
       "    </tr>\n",
       "    <tr>\n",
       "      <td>вдовец / вдова</td>\n",
       "      <td>884</td>\n",
       "      <td>62</td>\n",
       "      <td>7.013575</td>\n",
       "      <td>946</td>\n",
       "    </tr>\n",
       "    <tr>\n",
       "      <td>гражданский брак</td>\n",
       "      <td>3728</td>\n",
       "      <td>383</td>\n",
       "      <td>10.273605</td>\n",
       "      <td>4111</td>\n",
       "    </tr>\n",
       "    <tr>\n",
       "      <td>женат / замужем</td>\n",
       "      <td>11290</td>\n",
       "      <td>922</td>\n",
       "      <td>8.166519</td>\n",
       "      <td>12212</td>\n",
       "    </tr>\n",
       "    <tr>\n",
       "      <td>не женат / не замужем</td>\n",
       "      <td>2508</td>\n",
       "      <td>272</td>\n",
       "      <td>10.845295</td>\n",
       "      <td>2780</td>\n",
       "    </tr>\n",
       "  </tbody>\n",
       "</table>\n",
       "</div>"
      ],
      "text/plain": [
       "debt                   False  True          %  count_client\n",
       "family_status                                              \n",
       "в разводе               1095    84   7.671233          1179\n",
       "вдовец / вдова           884    62   7.013575           946\n",
       "гражданский брак        3728   383  10.273605          4111\n",
       "женат / замужем        11290   922   8.166519         12212\n",
       "не женат / не замужем   2508   272  10.845295          2780"
      ]
     },
     "execution_count": 744,
     "metadata": {},
     "output_type": "execute_result"
    }
   ],
   "source": [
    "# вычисление зависимости family_status и debt\n",
    "relationship = create_data_pivot(data, 'family_status', 'debt', 'family_status_id')\n",
    "relationship"
   ]
  },
  {
   "cell_type": "markdown",
   "metadata": {},
   "source": [
    "### Вывод"
   ]
  },
  {
   "cell_type": "markdown",
   "metadata": {},
   "source": [
    "Клиенты, которые не состоят в браке или состоят в гражданском браке, более склонны к задолженностям, чем остальные - 10%.\n",
    "\n",
    "Клиенты, которые состоят в официальном браке на второй строчке нашего рейтинга - 8% задолженностей.\n",
    "\n",
    "Клиенты в разводе и овдовешие наименьшая группа риска - около 7% задолженностей."
   ]
  },
  {
   "cell_type": "markdown",
   "metadata": {},
   "source": [
    "- Есть ли зависимость между уровнем дохода и возвратом кредита в срок?"
   ]
  },
  {
   "cell_type": "code",
   "execution_count": 745,
   "metadata": {},
   "outputs": [
    {
     "data": {
      "text/html": [
       "<div>\n",
       "<style scoped>\n",
       "    .dataframe tbody tr th:only-of-type {\n",
       "        vertical-align: middle;\n",
       "    }\n",
       "\n",
       "    .dataframe tbody tr th {\n",
       "        vertical-align: top;\n",
       "    }\n",
       "\n",
       "    .dataframe thead th {\n",
       "        text-align: right;\n",
       "    }\n",
       "</style>\n",
       "<table border=\"1\" class=\"dataframe\">\n",
       "  <thead>\n",
       "    <tr style=\"text-align: right;\">\n",
       "      <th>debt</th>\n",
       "      <th>False</th>\n",
       "      <th>True</th>\n",
       "      <th>%</th>\n",
       "      <th>count_client</th>\n",
       "    </tr>\n",
       "    <tr>\n",
       "      <th>total_income_group</th>\n",
       "      <th></th>\n",
       "      <th></th>\n",
       "      <th></th>\n",
       "      <th></th>\n",
       "    </tr>\n",
       "  </thead>\n",
       "  <tbody>\n",
       "    <tr>\n",
       "      <td>до 100 000 рублей</td>\n",
       "      <td>4068</td>\n",
       "      <td>352</td>\n",
       "      <td>8.652901</td>\n",
       "      <td>4420</td>\n",
       "    </tr>\n",
       "    <tr>\n",
       "      <td>от 100 000 до 125 000 рублей</td>\n",
       "      <td>2969</td>\n",
       "      <td>286</td>\n",
       "      <td>9.632873</td>\n",
       "      <td>3255</td>\n",
       "    </tr>\n",
       "    <tr>\n",
       "      <td>от 125 000 до 150 000 рублей</td>\n",
       "      <td>3495</td>\n",
       "      <td>330</td>\n",
       "      <td>9.442060</td>\n",
       "      <td>3825</td>\n",
       "    </tr>\n",
       "    <tr>\n",
       "      <td>от 150 000 до 200 000 рублей</td>\n",
       "      <td>4318</td>\n",
       "      <td>400</td>\n",
       "      <td>9.263548</td>\n",
       "      <td>4718</td>\n",
       "    </tr>\n",
       "    <tr>\n",
       "      <td>от 200 000 рублей</td>\n",
       "      <td>4655</td>\n",
       "      <td>355</td>\n",
       "      <td>7.626208</td>\n",
       "      <td>5010</td>\n",
       "    </tr>\n",
       "  </tbody>\n",
       "</table>\n",
       "</div>"
      ],
      "text/plain": [
       "debt                          False  True         %  count_client\n",
       "total_income_group                                               \n",
       "до 100 000 рублей              4068   352  8.652901          4420\n",
       "от 100 000 до 125 000 рублей   2969   286  9.632873          3255\n",
       "от 125 000 до 150 000 рублей   3495   330  9.442060          3825\n",
       "от 150 000 до 200 000 рублей   4318   400  9.263548          4718\n",
       "от 200 000 рублей              4655   355  7.626208          5010"
      ]
     },
     "execution_count": 745,
     "metadata": {},
     "output_type": "execute_result"
    }
   ],
   "source": [
    "# вычисление зависимости total_income и debt\n",
    "relationship = create_data_pivot(data, 'total_income_group', 'debt', 'total_income')\n",
    "relationship"
   ]
  },
  {
   "cell_type": "markdown",
   "metadata": {},
   "source": [
    "### Вывод"
   ]
  },
  {
   "cell_type": "markdown",
   "metadata": {},
   "source": [
    "Самый высокий процент задолженностей у клиентов с заработком от 100 000 до 200 000 рублей. Но стоит отметить, что клиенты с меньшим заработком, менее 100 000 рублей, имеют хороший процент возврата кредитов, наравне с клиентами с зарплатой более 200 000 рублей."
   ]
  },
  {
   "cell_type": "markdown",
   "metadata": {},
   "source": [
    "- Как разные цели кредита влияют на его возврат в срок?"
   ]
  },
  {
   "cell_type": "code",
   "execution_count": 746,
   "metadata": {},
   "outputs": [
    {
     "data": {
      "text/html": [
       "<div>\n",
       "<style scoped>\n",
       "    .dataframe tbody tr th:only-of-type {\n",
       "        vertical-align: middle;\n",
       "    }\n",
       "\n",
       "    .dataframe tbody tr th {\n",
       "        vertical-align: top;\n",
       "    }\n",
       "\n",
       "    .dataframe thead th {\n",
       "        text-align: right;\n",
       "    }\n",
       "</style>\n",
       "<table border=\"1\" class=\"dataframe\">\n",
       "  <thead>\n",
       "    <tr style=\"text-align: right;\">\n",
       "      <th>debt</th>\n",
       "      <th>False</th>\n",
       "      <th>True</th>\n",
       "      <th>%</th>\n",
       "      <th>count_client</th>\n",
       "    </tr>\n",
       "    <tr>\n",
       "      <th>purpose_group</th>\n",
       "      <th></th>\n",
       "      <th></th>\n",
       "      <th></th>\n",
       "      <th></th>\n",
       "    </tr>\n",
       "  </thead>\n",
       "  <tbody>\n",
       "    <tr>\n",
       "      <td>автомобиль</td>\n",
       "      <td>1716</td>\n",
       "      <td>172</td>\n",
       "      <td>10.023310</td>\n",
       "      <td>1888</td>\n",
       "    </tr>\n",
       "    <tr>\n",
       "      <td>недвижимость</td>\n",
       "      <td>12070</td>\n",
       "      <td>1001</td>\n",
       "      <td>8.293289</td>\n",
       "      <td>13071</td>\n",
       "    </tr>\n",
       "    <tr>\n",
       "      <td>образование</td>\n",
       "      <td>3601</td>\n",
       "      <td>369</td>\n",
       "      <td>10.247154</td>\n",
       "      <td>3970</td>\n",
       "    </tr>\n",
       "    <tr>\n",
       "      <td>свадьба</td>\n",
       "      <td>2118</td>\n",
       "      <td>181</td>\n",
       "      <td>8.545798</td>\n",
       "      <td>2299</td>\n",
       "    </tr>\n",
       "  </tbody>\n",
       "</table>\n",
       "</div>"
      ],
      "text/plain": [
       "debt           False  True          %  count_client\n",
       "purpose_group                                      \n",
       "автомобиль      1716   172  10.023310          1888\n",
       "недвижимость   12070  1001   8.293289         13071\n",
       "образование     3601   369  10.247154          3970\n",
       "свадьба         2118   181   8.545798          2299"
      ]
     },
     "execution_count": 746,
     "metadata": {},
     "output_type": "execute_result"
    }
   ],
   "source": [
    "# вычисление зависимости total_income и debt\n",
    "relationship = create_data_pivot(data, 'purpose_group', 'debt', 'purpose')\n",
    "relationship"
   ]
  },
  {
   "cell_type": "markdown",
   "metadata": {},
   "source": [
    "### Вывод"
   ]
  },
  {
   "cell_type": "markdown",
   "metadata": {},
   "source": [
    "Более надежные цели кредита - это недвижиомсть и свадьба."
   ]
  },
  {
   "cell_type": "markdown",
   "metadata": {},
   "source": [
    "# Шаг 4. Общий вывод <a id=\"step4\"></a>"
   ]
  },
  {
   "cell_type": "markdown",
   "metadata": {},
   "source": [
    "Исследование показало, что клиенты состоящие в официальном браке, с запрлатой более 200 000 рублей, с целью кредита на покупку недвижимости или проведения свадьбы(хотя они уже женаты, может захотелось торжества) являются самыми надежными."
   ]
  },
  {
   "cell_type": "markdown",
   "metadata": {},
   "source": [
    "### Чек-лист готовности проекта\n",
    "\n",
    "Поставьте 'x' в выполненных пунктах. Далее нажмите Shift+Enter."
   ]
  },
  {
   "cell_type": "markdown",
   "metadata": {},
   "source": [
    "- [x]  открыт файл;\n",
    "- [x]  файл изучен;\n",
    "- [x]  определены пропущенные значения;\n",
    "- [x]  заполнены пропущенные значения;\n",
    "- [x]  есть пояснение, какие пропущенные значения обнаружены;\n",
    "- [x]  описаны возможные причины появления пропусков в данных;\n",
    "- [x]  объяснено, по какому принципу заполнены пропуски;\n",
    "- [x]  заменен вещественный тип данных на целочисленный;\n",
    "- [x]  есть пояснение, какой метод используется для изменения типа данных и почему;\n",
    "- [x]  удалены дубликаты;\n",
    "- [x]  есть пояснение, какой метод используется для поиска и удаления дубликатов;\n",
    "- [x]  описаны возможные причины появления дубликатов в данных;\n",
    "- [x]  выделены леммы в значениях столбца с целями получения кредита;\n",
    "- [x]  описан процесс лемматизации;\n",
    "- [x]  данные категоризированы;\n",
    "- [x]  есть объяснение принципа категоризации данных;\n",
    "- [x]  есть ответ на вопрос: \"Есть ли зависимость между наличием детей и возвратом кредита в срок?\";\n",
    "- [x]  есть ответ на вопрос: \"Есть ли зависимость между семейным положением и возвратом кредита в срок?\";\n",
    "- [x]  есть ответ на вопрос: \"Есть ли зависимость между уровнем дохода и возвратом кредита в срок?\";\n",
    "- [x]  есть ответ на вопрос: \"Как разные цели кредита влияют на его возврат в срок?\";\n",
    "- [x]  в каждом этапе есть выводы;\n",
    "- [x]  есть общий вывод."
   ]
  }
 ],
 "metadata": {
  "kernelspec": {
   "display_name": "Python 3",
   "language": "python",
   "name": "python3"
  },
  "language_info": {
   "codemirror_mode": {
    "name": "ipython",
    "version": 3
   },
   "file_extension": ".py",
   "mimetype": "text/x-python",
   "name": "python",
   "nbconvert_exporter": "python",
   "pygments_lexer": "ipython3",
   "version": "3.8.6"
  }
 },
 "nbformat": 4,
 "nbformat_minor": 2
}
