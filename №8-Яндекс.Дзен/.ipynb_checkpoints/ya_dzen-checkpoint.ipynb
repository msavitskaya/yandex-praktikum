{
 "cells": [
  {
   "cell_type": "markdown",
   "metadata": {},
   "source": [
    "# Аналитика в Яндекс.Дзене"
   ]
  },
  {
   "cell_type": "markdown",
   "metadata": {},
   "source": [
    "Бизнес-задача: анализ взаимодействия пользователей с карточками Яндекс.Дзен;\n",
    "\n",
    "Насколько часто предполагается пользоваться дашбордом: не реже, чем раз в неделю;\n",
    "\n",
    "Кто будет основным пользователем дашборда: менеджеры по анализу контента;\n",
    "\n",
    "Состав данных для дашборда: \n",
    "\n",
    "* История событий по темам карточек (два графика - абсолютные числа и процентное соотношение);\n",
    "* Разбивка событий по темам источников;\n",
    "\n",
    "* Таблица соответствия тем источников темам карточек;\n",
    "\n",
    "По каким параметрам данные группируются:\n",
    "\n",
    "* Дата и время;\n",
    "\n",
    "* Тема карточки;\n",
    "\n",
    "* Возрастная группа;\n",
    "\n",
    "Характер данных:\n",
    "\n",
    "История событий по темам карточек — абсолютные величины с разбивкой по минутам;\n",
    "\n",
    "Разбивка событий по темам источников — относительные величины (% событий);\n",
    "\n",
    "Соответствия тем источников темам карточек - абсолютные величины;\n",
    "\n",
    "Важность: все графики имеют равную важность;\n",
    "\n",
    "Источники данных для дашборда: cырые данные о событиях взаимодействия пользователей с карточками (таблица log_raw);\n",
    "\n",
    "База данных, в которой будут храниться агрегированные данные: дополнительные агрегированные таблицы в БД zen;\n",
    "\n",
    "Частота обновления данных: один раз в сутки, в полночь по UTC;\n",
    "\n",
    "Какие графики должны отображаться и в каком порядке, какие элементы управления должны быть на дашборде (макет дашборда - https://prnt.sc/121kz5o)."
   ]
  },
  {
   "cell_type": "code",
   "execution_count": 2,
   "metadata": {},
   "outputs": [],
   "source": [
    "# импортируем библиотеки\n",
    "import pandas as pd\n",
    "from sqlalchemy import create_engine"
   ]
  },
  {
   "cell_type": "markdown",
   "metadata": {},
   "source": [
    "## Выгрузка данных"
   ]
  },
  {
   "cell_type": "code",
   "execution_count": 3,
   "metadata": {},
   "outputs": [
    {
     "data": {
      "text/html": [
       "<div>\n",
       "<style scoped>\n",
       "    .dataframe tbody tr th:only-of-type {\n",
       "        vertical-align: middle;\n",
       "    }\n",
       "\n",
       "    .dataframe tbody tr th {\n",
       "        vertical-align: top;\n",
       "    }\n",
       "\n",
       "    .dataframe thead th {\n",
       "        text-align: right;\n",
       "    }\n",
       "</style>\n",
       "<table border=\"1\" class=\"dataframe\">\n",
       "  <thead>\n",
       "    <tr style=\"text-align: right;\">\n",
       "      <th></th>\n",
       "      <th>record_id</th>\n",
       "      <th>item_topic</th>\n",
       "      <th>source_topic</th>\n",
       "      <th>age_segment</th>\n",
       "      <th>dt</th>\n",
       "      <th>visits</th>\n",
       "    </tr>\n",
       "  </thead>\n",
       "  <tbody>\n",
       "    <tr>\n",
       "      <th>0</th>\n",
       "      <td>1040597</td>\n",
       "      <td>Деньги</td>\n",
       "      <td>Авто</td>\n",
       "      <td>18-25</td>\n",
       "      <td>2019-09-24 18:32:00</td>\n",
       "      <td>3</td>\n",
       "    </tr>\n",
       "    <tr>\n",
       "      <th>1</th>\n",
       "      <td>1040598</td>\n",
       "      <td>Деньги</td>\n",
       "      <td>Авто</td>\n",
       "      <td>18-25</td>\n",
       "      <td>2019-09-24 18:35:00</td>\n",
       "      <td>1</td>\n",
       "    </tr>\n",
       "    <tr>\n",
       "      <th>2</th>\n",
       "      <td>1040599</td>\n",
       "      <td>Деньги</td>\n",
       "      <td>Авто</td>\n",
       "      <td>18-25</td>\n",
       "      <td>2019-09-24 18:54:00</td>\n",
       "      <td>4</td>\n",
       "    </tr>\n",
       "    <tr>\n",
       "      <th>3</th>\n",
       "      <td>1040600</td>\n",
       "      <td>Деньги</td>\n",
       "      <td>Авто</td>\n",
       "      <td>18-25</td>\n",
       "      <td>2019-09-24 18:55:00</td>\n",
       "      <td>17</td>\n",
       "    </tr>\n",
       "    <tr>\n",
       "      <th>4</th>\n",
       "      <td>1040601</td>\n",
       "      <td>Деньги</td>\n",
       "      <td>Авто</td>\n",
       "      <td>18-25</td>\n",
       "      <td>2019-09-24 18:56:00</td>\n",
       "      <td>27</td>\n",
       "    </tr>\n",
       "  </tbody>\n",
       "</table>\n",
       "</div>"
      ],
      "text/plain": [
       "   record_id item_topic source_topic age_segment                  dt  visits\n",
       "0    1040597     Деньги         Авто       18-25 2019-09-24 18:32:00       3\n",
       "1    1040598     Деньги         Авто       18-25 2019-09-24 18:35:00       1\n",
       "2    1040599     Деньги         Авто       18-25 2019-09-24 18:54:00       4\n",
       "3    1040600     Деньги         Авто       18-25 2019-09-24 18:55:00      17\n",
       "4    1040601     Деньги         Авто       18-25 2019-09-24 18:56:00      27"
      ]
     },
     "execution_count": 3,
     "metadata": {},
     "output_type": "execute_result"
    }
   ],
   "source": [
    "# данные для подключения к БД\n",
    "db_config = {'user': 'praktikum_student', # имя пользователя\n",
    "            'pwd': 'Sdf4$2;d-d30pp', # пароль\n",
    "            'host': 'rc1b-wcoijxj3yxfsf3fs.mdb.yandexcloud.net',\n",
    "            'port': 6432, # порт подключения\n",
    "            'db': 'data-analyst-zen-project-db'} # название базы данных\n",
    "\n",
    "connection_string = 'postgresql://{}:{}@{}:{}/{}'.format(db_config['user'],\n",
    "                                                db_config['pwd'],\n",
    "                                                db_config['host'],\n",
    "                                                db_config['port'],\n",
    "                                                db_config['db'])\n",
    "# подлючение к БД\n",
    "engine = create_engine(connection_string) \n",
    "\n",
    "# запрос в БД\n",
    "query = '''\n",
    "           SELECT *\n",
    "           FROM dash_visits\n",
    "        '''\n",
    "\n",
    "data = pd.io.sql.read_sql(query, con = engine) \n",
    "\n",
    "# скачивание документа с данными\n",
    "data.to_csv('dash_visits.csv', index=False)\n",
    "\n",
    "data.head(5)"
   ]
  },
  {
   "cell_type": "markdown",
   "metadata": {},
   "source": [
    "## Ссылка на дашборд"
   ]
  },
  {
   "cell_type": "markdown",
   "metadata": {},
   "source": [
    "https://prod-apnortheast-a.online.tableau.com/t/msavitskaya/views/_0/_?:showAppBanner=false&:display_count=n&:showVizHome=n&:origin=viz_share_link"
   ]
  },
  {
   "cell_type": "markdown",
   "metadata": {},
   "source": [
    "## Ссылка на презентацию"
   ]
  },
  {
   "cell_type": "markdown",
   "metadata": {},
   "source": [
    "https://drive.google.com/file/d/1zSoaXGRrTj_kTxBIgaaKewff443N0PN_/view?usp=sharing"
   ]
  },
  {
   "cell_type": "markdown",
   "metadata": {},
   "source": [
    "## Общие выводы"
   ]
  },
  {
   "cell_type": "markdown",
   "metadata": {},
   "source": [
    "По предоставленным данным за 24.09.2019г наибольшее количество просмотров пришлось на вечернее время, пик наблюдается в 18.58. В этот момент было совершено 60 000 просмотров карточек. \n",
    "Самые популярные темы карточек: Наука, Отношения, Интересные факты, Общество (к ним обращаются от 5 до 9% всех пользователей). Наименее популярные темы карточек: Шоу, Скандалы, Знаменитости, Путешествия, Искусство, Женская психология (к ним обращаются от 2 до 3% всех пользователей).\n",
    "\n",
    "Самые популярные темы источников: Семейные отношения (11% всех обращений), Россия (10%), Полезные советы (9%), Путешествия (8%), Знаменитости (8%), Кино(6%) и Дети(5%).\n",
    "\n",
    "Большинство тем источников гененируют по 25 тем карточек. Но есть источники, которые генерирует меньше тем, например Интерьеры, Сад и дача, Сделай сам, Строительство и технологии.\n",
    "По теме Рассказы больше всего карточек с темой источника Путешествия. По теме Общество больше всего карточек с темой источника Россия. По теме Наука — Кино. "
   ]
  }
 ],
 "metadata": {
  "kernelspec": {
   "display_name": "Python 3",
   "language": "python",
   "name": "python3"
  },
  "language_info": {
   "codemirror_mode": {
    "name": "ipython",
    "version": 3
   },
   "file_extension": ".py",
   "mimetype": "text/x-python",
   "name": "python",
   "nbconvert_exporter": "python",
   "pygments_lexer": "ipython3",
   "version": "3.8.6"
  }
 },
 "nbformat": 4,
 "nbformat_minor": 4
}
